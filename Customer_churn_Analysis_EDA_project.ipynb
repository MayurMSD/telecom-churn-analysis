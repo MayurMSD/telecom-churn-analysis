{
  "nbformat": 4,
  "nbformat_minor": 0,
  "metadata": {
    "colab": {
      "provenance": [],
      "collapsed_sections": [
        "GF8Ens_Soomf",
        "0wOQAZs5pc--",
        "K5QZ13OEpz2H",
        "lQ7QKXXCp7Bj",
        "448CDAPjqfQr",
        "KSlN3yHqYklG",
        "t6dVpIINYklI",
        "ijmpgYnKYklI",
        "-JiQyfWJYklI",
        "EM7whBJCYoAo",
        "fge-S5ZAYoAp",
        "85gYPyotYoAp",
        "RoGjAbkUYoAp",
        "4Of9eVA-YrdM",
        "iky9q4vBYrdO",
        "F6T5p64dYrdO",
        "y-Ehk30pYrdP",
        "bamQiAODYuh1",
        "QHF8YVU7Yuh3",
        "GwzvFGzlYuh3",
        "qYpmQ266Yuh3",
        "OH-pJp9IphqM",
        "bbFf2-_FphqN",
        "_ouA3fa0phqN",
        "Seke61FWphqN",
        "PIIx-8_IphqN",
        "t27r6nlMphqO",
        "r2jJGEOYphqO",
        "b0JNsNcRphqO",
        "BZR9WyysphqO",
        "jj7wYXLtphqO",
        "eZrbJ2SmphqO",
        "rFu4xreNphqO",
        "YJ55k-q6phqO",
        "gCFgpxoyphqP",
        "OVtJsKN_phqQ",
        "lssrdh5qphqQ",
        "U2RJ9gkRphqQ",
        "1M8mcRywphqQ",
        "tgIPom80phqQ",
        "JMzcOPDDphqR",
        "x-EpHcCOp1ci",
        "X_VqEhTip1ck",
        "8zGJKyg5p1ck",
        "PVzmfK_Ep1ck",
        "n3dbpmDWp1ck",
        "ylSl6qgtp1ck",
        "ZWILFDl5p1ck",
        "M7G43BXep1ck",
        "Ag9LCva-p1cl",
        "E6MkPsBcp1cl",
        "2cELzS2fp1cl",
        "3MPXvC8up1cl",
        "NC_X3p0fY2L0",
        "UV0SzAkaZNRQ",
        "YPEH6qLeZNRQ",
        "q29F0dvdveiT",
        "EXh0U9oCveiU",
        "22aHeOlLveiV",
        "JcMwzZxoAimU",
        "8G2x9gOozGDZ",
        "gCX9965dhzqZ",
        "gIfDvo9L0UH2"
      ],
      "cell_execution_strategy": "setup",
      "include_colab_link": true
    },
    "kernelspec": {
      "name": "python3",
      "display_name": "Python 3"
    },
    "language_info": {
      "name": "python"
    }
  },
  "cells": [
    {
      "cell_type": "markdown",
      "metadata": {
        "id": "view-in-github",
        "colab_type": "text"
      },
      "source": [
        "<a href=\"https://colab.research.google.com/github/MayurMSD/telecom-churn-analysis/blob/main/Customer_churn_Analysis_EDA_project.ipynb\" target=\"_parent\"><img src=\"https://colab.research.google.com/assets/colab-badge.svg\" alt=\"Open In Colab\"/></a>"
      ]
    },
    {
      "cell_type": "markdown",
      "source": [
        "# **Project Name**    -\n",
        "\n"
      ],
      "metadata": {
        "id": "vncDsAP0Gaoa"
      }
    },
    {
      "cell_type": "markdown",
      "source": [
        "##### **Project Type**    - EDA\n",
        "\n",
        "\n",
        "\n",
        "\n",
        "##### **Contribution**    - Individual\n",
        "##### **Mayur Deshmukh -**\n"
      ],
      "metadata": {
        "id": "beRrZCGUAJYm"
      }
    },
    {
      "cell_type": "markdown",
      "source": [
        "# **Project Summary -**"
      ],
      "metadata": {
        "id": "FJNUwmbgGyua"
      }
    },
    {
      "cell_type": "markdown",
      "source": [
        "** **Customer churn rate** **, also known as customer attrition rate, is a critical metric in the telecom industry that measures the percentage of customers who stop using a service or product over a certain period of time. In the telecom industry, high churn rates can have significant financial implications, including loss of revenue, decreased market share, and increased costs associated with acquiring new customers.\n",
        "\n",
        "\n",
        "\n",
        "**Identifying Factors**: Understanding the factors that contribute to customer churn is essential for telecom companies. These factors can include pricing, service quality, network coverage, customer service experience, competitive offerings, and customer demographics.\n",
        "\n",
        "\n",
        "**Predictive Analytics**: Predicting which customers are most likely to churn allows telecom companies to proactively intervene with targeted retention strategies. Predictive analytics techniques, such as machine learning algorithms, can analyze historical customer data to identify patterns and trends associated with churn.\n",
        "\n",
        "\n",
        "**Retention Strategies**: Developing effective retention strategies is crucial for reducing churn rates. These strategies may include personalized offers, loyalty programs, improved customer service, network enhancements, and targeted marketing campaigns.\n",
        "\n",
        "\n",
        "**Customer Segmentation**: Segmenting customers based on their behavior, preferences, and characteristics can help tailor retention strategies to specific customer segments. By understanding the unique needs of different customer segments, telecom companies can optimize their efforts to reduce churn.\n",
        "\n",
        "Overall, addressing the challenge of customer churn in the telecom industry requires a combination of data-driven analytics, customer-centric strategies, and proactive management approaches. By effectively managing churn, telecom companies can improve customer retention, enhance customer satisfaction, and ultimately drive sustainable business growth.\n",
        "\n",
        "\n",
        "\n",
        "so in this project we are going to identify causes and patterns and identify customers who are most likely to leave the service .\n",
        "\n",
        "\n",
        "\n"
      ],
      "metadata": {
        "id": "F6v_1wHtG2nS"
      }
    },
    {
      "cell_type": "markdown",
      "source": [
        "# **GitHub Link -**"
      ],
      "metadata": {
        "id": "w6K7xa23Elo4"
      }
    },
    {
      "cell_type": "markdown",
      "source": [
        "Provide your GitHub Link here."
      ],
      "metadata": {
        "id": "h1o69JH3Eqqn"
      }
    },
    {
      "cell_type": "markdown",
      "source": [
        "# **Problem Statement**\n"
      ],
      "metadata": {
        "id": "yQaldy8SH6Dl"
      }
    },
    {
      "cell_type": "markdown",
      "source": [
        "BUSINESS PROBLEM OVERVIEW\n",
        "\n",
        "Customer churn prediction is extremely important for any business as it recognizes the clients who are likely to stop using their services.\n",
        "\n",
        "\n",
        "In the telecom industry, customers are able to choose from multiple service providers and actively switch from one operator to another. In this highly competitive market, the telecommunications industry experiences an average of 15-25% annual churn rate. Given the fact that it costs 5-10 times more to acquire a new customer than to retain an existing one, customer retention has now become even more important than customer acquisition.\n",
        "\n",
        "\n",
        "For many incumbent operators, retaining high profitable customers is the number one business goal. To reduce customer churn, telecom companies need to predict which customers are at high risk of churn. In this project, you will analyse customer-level data of a leading telecom firm, do exploratory data analysis to identify the main indicators why customers are leaving the company."
      ],
      "metadata": {
        "id": "DpeJGUA3kjGy"
      }
    },
    {
      "cell_type": "markdown",
      "source": [
        "#### **Define Your Business Objective?**"
      ],
      "metadata": {
        "id": "PH-0ReGfmX4f"
      }
    },
    {
      "cell_type": "markdown",
      "source": [
        "To reduce Customer churn rate and identify category of such customers to devise strategies for them ."
      ],
      "metadata": {
        "id": "PhDvGCAqmjP1"
      }
    },
    {
      "cell_type": "markdown",
      "source": [
        "# **General Guidelines** : -  "
      ],
      "metadata": {
        "id": "mDgbUHAGgjLW"
      }
    },
    {
      "cell_type": "markdown",
      "source": [
        "1.   Well-structured, formatted, and commented code is required.\n",
        "2.   Exception Handling, Production Grade Code & Deployment Ready Code will be a plus. Those students will be awarded some additional credits.\n",
        "     \n",
        "     The additional credits will have advantages over other students during Star Student selection.\n",
        "       \n",
        "             [ Note: - Deployment Ready Code is defined as, the whole .ipynb notebook should be executable in one go\n",
        "                       without a single error logged. ]\n",
        "\n",
        "3.   Each and every logic should have proper comments.\n",
        "4. You may add as many number of charts you want. Make Sure for each and every chart the following format should be answered.\n",
        "        \n",
        "\n",
        "```\n",
        "# Chart visualization code\n",
        "```\n",
        "            \n",
        "\n",
        "*   Why did you pick the specific chart?\n",
        "*   What is/are the insight(s) found from the chart?\n",
        "* Will the gained insights help creating a positive business impact?\n",
        "Are there any insights that lead to negative growth? Justify with specific reason.\n",
        "\n",
        "5. You have to create at least 20 logical & meaningful charts having important insights.\n",
        "\n",
        "\n",
        "[ Hints : - Do the Vizualization in  a structured way while following \"UBM\" Rule.\n",
        "\n",
        "U - Univariate Analysis,\n",
        "\n",
        "B - Bivariate Analysis (Numerical - Categorical, Numerical - Numerical, Categorical - Categorical)\n",
        "\n",
        "M - Multivariate Analysis\n",
        " ]\n",
        "\n",
        "\n",
        "\n"
      ],
      "metadata": {
        "id": "ZrxVaUj-hHfC"
      }
    },
    {
      "cell_type": "markdown",
      "source": [
        "# ***Let's Begin !***"
      ],
      "metadata": {
        "id": "O_i_v8NEhb9l"
      }
    },
    {
      "cell_type": "markdown",
      "source": [
        "## ***1. Know Your Data***"
      ],
      "metadata": {
        "id": "HhfV-JJviCcP"
      }
    },
    {
      "cell_type": "markdown",
      "source": [
        "### Import Libraries"
      ],
      "metadata": {
        "id": "Y3lxredqlCYt"
      }
    },
    {
      "cell_type": "code",
      "source": [
        "# Import Libraries\n",
        "import numpy as np\n",
        "import pandas as pd\n",
        "import seaborn as sns\n",
        "import matplotlib.pyplot as plt\n",
        "\n"
      ],
      "metadata": {
        "id": "M8Vqi-pPk-HR"
      },
      "execution_count": 1,
      "outputs": []
    },
    {
      "cell_type": "markdown",
      "source": [
        "### Dataset Loading"
      ],
      "metadata": {
        "id": "3RnN4peoiCZX"
      }
    },
    {
      "cell_type": "code",
      "source": [
        "# Load Dataset\n",
        "\n",
        "df = pd.read_csv('/content/Telecom Churn.csv')\n",
        "\n"
      ],
      "metadata": {
        "id": "4CkvbW_SlZ_R"
      },
      "execution_count": 3,
      "outputs": []
    },
    {
      "cell_type": "markdown",
      "source": [
        "### Dataset First View"
      ],
      "metadata": {
        "id": "x71ZqKXriCWQ"
      }
    },
    {
      "cell_type": "code",
      "source": [
        "# Dataset First Look\n",
        "df"
      ],
      "metadata": {
        "id": "LWNFOSvLl09H",
        "colab": {
          "base_uri": "https://localhost:8080/",
          "height": 478
        },
        "outputId": "69744998-a008-4823-83c9-f06a665e9a5f"
      },
      "execution_count": 4,
      "outputs": [
        {
          "output_type": "execute_result",
          "data": {
            "text/plain": [
              "     State  Account length  Area code International plan Voice mail plan  \\\n",
              "0       KS             128        415                 No             Yes   \n",
              "1       OH             107        415                 No             Yes   \n",
              "2       NJ             137        415                 No              No   \n",
              "3       OH              84        408                Yes              No   \n",
              "4       OK              75        415                Yes              No   \n",
              "...    ...             ...        ...                ...             ...   \n",
              "3328    AZ             192        415                 No             Yes   \n",
              "3329    WV              68        415                 No              No   \n",
              "3330    RI              28        510                 No              No   \n",
              "3331    CT             184        510                Yes              No   \n",
              "3332    TN              74        415                 No             Yes   \n",
              "\n",
              "      Number vmail messages  Total day minutes  Total day calls  \\\n",
              "0                        25              265.1              110   \n",
              "1                        26              161.6              123   \n",
              "2                         0              243.4              114   \n",
              "3                         0              299.4               71   \n",
              "4                         0              166.7              113   \n",
              "...                     ...                ...              ...   \n",
              "3328                     36              156.2               77   \n",
              "3329                      0              231.1               57   \n",
              "3330                      0              180.8              109   \n",
              "3331                      0              213.8              105   \n",
              "3332                     25              234.4              113   \n",
              "\n",
              "      Total day charge  Total eve minutes  Total eve calls  Total eve charge  \\\n",
              "0                45.07              197.4               99             16.78   \n",
              "1                27.47              195.5              103             16.62   \n",
              "2                41.38              121.2              110             10.30   \n",
              "3                50.90               61.9               88              5.26   \n",
              "4                28.34              148.3              122             12.61   \n",
              "...                ...                ...              ...               ...   \n",
              "3328             26.55              215.5              126             18.32   \n",
              "3329             39.29              153.4               55             13.04   \n",
              "3330             30.74              288.8               58             24.55   \n",
              "3331             36.35              159.6               84             13.57   \n",
              "3332             39.85              265.9               82             22.60   \n",
              "\n",
              "      Total night minutes  Total night calls  Total night charge  \\\n",
              "0                   244.7                 91               11.01   \n",
              "1                   254.4                103               11.45   \n",
              "2                   162.6                104                7.32   \n",
              "3                   196.9                 89                8.86   \n",
              "4                   186.9                121                8.41   \n",
              "...                   ...                ...                 ...   \n",
              "3328                279.1                 83               12.56   \n",
              "3329                191.3                123                8.61   \n",
              "3330                191.9                 91                8.64   \n",
              "3331                139.2                137                6.26   \n",
              "3332                241.4                 77               10.86   \n",
              "\n",
              "      Total intl minutes  Total intl calls  Total intl charge  \\\n",
              "0                   10.0                 3               2.70   \n",
              "1                   13.7                 3               3.70   \n",
              "2                   12.2                 5               3.29   \n",
              "3                    6.6                 7               1.78   \n",
              "4                   10.1                 3               2.73   \n",
              "...                  ...               ...                ...   \n",
              "3328                 9.9                 6               2.67   \n",
              "3329                 9.6                 4               2.59   \n",
              "3330                14.1                 6               3.81   \n",
              "3331                 5.0                10               1.35   \n",
              "3332                13.7                 4               3.70   \n",
              "\n",
              "      Customer service calls  Churn  \n",
              "0                          1  False  \n",
              "1                          1  False  \n",
              "2                          0  False  \n",
              "3                          2  False  \n",
              "4                          3  False  \n",
              "...                      ...    ...  \n",
              "3328                       2  False  \n",
              "3329                       3  False  \n",
              "3330                       2  False  \n",
              "3331                       2  False  \n",
              "3332                       0  False  \n",
              "\n",
              "[3333 rows x 20 columns]"
            ],
            "text/html": [
              "\n",
              "  <div id=\"df-eda8cb23-bd2b-4e1f-9699-b87d2a8dc798\" class=\"colab-df-container\">\n",
              "    <div>\n",
              "<style scoped>\n",
              "    .dataframe tbody tr th:only-of-type {\n",
              "        vertical-align: middle;\n",
              "    }\n",
              "\n",
              "    .dataframe tbody tr th {\n",
              "        vertical-align: top;\n",
              "    }\n",
              "\n",
              "    .dataframe thead th {\n",
              "        text-align: right;\n",
              "    }\n",
              "</style>\n",
              "<table border=\"1\" class=\"dataframe\">\n",
              "  <thead>\n",
              "    <tr style=\"text-align: right;\">\n",
              "      <th></th>\n",
              "      <th>State</th>\n",
              "      <th>Account length</th>\n",
              "      <th>Area code</th>\n",
              "      <th>International plan</th>\n",
              "      <th>Voice mail plan</th>\n",
              "      <th>Number vmail messages</th>\n",
              "      <th>Total day minutes</th>\n",
              "      <th>Total day calls</th>\n",
              "      <th>Total day charge</th>\n",
              "      <th>Total eve minutes</th>\n",
              "      <th>Total eve calls</th>\n",
              "      <th>Total eve charge</th>\n",
              "      <th>Total night minutes</th>\n",
              "      <th>Total night calls</th>\n",
              "      <th>Total night charge</th>\n",
              "      <th>Total intl minutes</th>\n",
              "      <th>Total intl calls</th>\n",
              "      <th>Total intl charge</th>\n",
              "      <th>Customer service calls</th>\n",
              "      <th>Churn</th>\n",
              "    </tr>\n",
              "  </thead>\n",
              "  <tbody>\n",
              "    <tr>\n",
              "      <th>0</th>\n",
              "      <td>KS</td>\n",
              "      <td>128</td>\n",
              "      <td>415</td>\n",
              "      <td>No</td>\n",
              "      <td>Yes</td>\n",
              "      <td>25</td>\n",
              "      <td>265.1</td>\n",
              "      <td>110</td>\n",
              "      <td>45.07</td>\n",
              "      <td>197.4</td>\n",
              "      <td>99</td>\n",
              "      <td>16.78</td>\n",
              "      <td>244.7</td>\n",
              "      <td>91</td>\n",
              "      <td>11.01</td>\n",
              "      <td>10.0</td>\n",
              "      <td>3</td>\n",
              "      <td>2.70</td>\n",
              "      <td>1</td>\n",
              "      <td>False</td>\n",
              "    </tr>\n",
              "    <tr>\n",
              "      <th>1</th>\n",
              "      <td>OH</td>\n",
              "      <td>107</td>\n",
              "      <td>415</td>\n",
              "      <td>No</td>\n",
              "      <td>Yes</td>\n",
              "      <td>26</td>\n",
              "      <td>161.6</td>\n",
              "      <td>123</td>\n",
              "      <td>27.47</td>\n",
              "      <td>195.5</td>\n",
              "      <td>103</td>\n",
              "      <td>16.62</td>\n",
              "      <td>254.4</td>\n",
              "      <td>103</td>\n",
              "      <td>11.45</td>\n",
              "      <td>13.7</td>\n",
              "      <td>3</td>\n",
              "      <td>3.70</td>\n",
              "      <td>1</td>\n",
              "      <td>False</td>\n",
              "    </tr>\n",
              "    <tr>\n",
              "      <th>2</th>\n",
              "      <td>NJ</td>\n",
              "      <td>137</td>\n",
              "      <td>415</td>\n",
              "      <td>No</td>\n",
              "      <td>No</td>\n",
              "      <td>0</td>\n",
              "      <td>243.4</td>\n",
              "      <td>114</td>\n",
              "      <td>41.38</td>\n",
              "      <td>121.2</td>\n",
              "      <td>110</td>\n",
              "      <td>10.30</td>\n",
              "      <td>162.6</td>\n",
              "      <td>104</td>\n",
              "      <td>7.32</td>\n",
              "      <td>12.2</td>\n",
              "      <td>5</td>\n",
              "      <td>3.29</td>\n",
              "      <td>0</td>\n",
              "      <td>False</td>\n",
              "    </tr>\n",
              "    <tr>\n",
              "      <th>3</th>\n",
              "      <td>OH</td>\n",
              "      <td>84</td>\n",
              "      <td>408</td>\n",
              "      <td>Yes</td>\n",
              "      <td>No</td>\n",
              "      <td>0</td>\n",
              "      <td>299.4</td>\n",
              "      <td>71</td>\n",
              "      <td>50.90</td>\n",
              "      <td>61.9</td>\n",
              "      <td>88</td>\n",
              "      <td>5.26</td>\n",
              "      <td>196.9</td>\n",
              "      <td>89</td>\n",
              "      <td>8.86</td>\n",
              "      <td>6.6</td>\n",
              "      <td>7</td>\n",
              "      <td>1.78</td>\n",
              "      <td>2</td>\n",
              "      <td>False</td>\n",
              "    </tr>\n",
              "    <tr>\n",
              "      <th>4</th>\n",
              "      <td>OK</td>\n",
              "      <td>75</td>\n",
              "      <td>415</td>\n",
              "      <td>Yes</td>\n",
              "      <td>No</td>\n",
              "      <td>0</td>\n",
              "      <td>166.7</td>\n",
              "      <td>113</td>\n",
              "      <td>28.34</td>\n",
              "      <td>148.3</td>\n",
              "      <td>122</td>\n",
              "      <td>12.61</td>\n",
              "      <td>186.9</td>\n",
              "      <td>121</td>\n",
              "      <td>8.41</td>\n",
              "      <td>10.1</td>\n",
              "      <td>3</td>\n",
              "      <td>2.73</td>\n",
              "      <td>3</td>\n",
              "      <td>False</td>\n",
              "    </tr>\n",
              "    <tr>\n",
              "      <th>...</th>\n",
              "      <td>...</td>\n",
              "      <td>...</td>\n",
              "      <td>...</td>\n",
              "      <td>...</td>\n",
              "      <td>...</td>\n",
              "      <td>...</td>\n",
              "      <td>...</td>\n",
              "      <td>...</td>\n",
              "      <td>...</td>\n",
              "      <td>...</td>\n",
              "      <td>...</td>\n",
              "      <td>...</td>\n",
              "      <td>...</td>\n",
              "      <td>...</td>\n",
              "      <td>...</td>\n",
              "      <td>...</td>\n",
              "      <td>...</td>\n",
              "      <td>...</td>\n",
              "      <td>...</td>\n",
              "      <td>...</td>\n",
              "    </tr>\n",
              "    <tr>\n",
              "      <th>3328</th>\n",
              "      <td>AZ</td>\n",
              "      <td>192</td>\n",
              "      <td>415</td>\n",
              "      <td>No</td>\n",
              "      <td>Yes</td>\n",
              "      <td>36</td>\n",
              "      <td>156.2</td>\n",
              "      <td>77</td>\n",
              "      <td>26.55</td>\n",
              "      <td>215.5</td>\n",
              "      <td>126</td>\n",
              "      <td>18.32</td>\n",
              "      <td>279.1</td>\n",
              "      <td>83</td>\n",
              "      <td>12.56</td>\n",
              "      <td>9.9</td>\n",
              "      <td>6</td>\n",
              "      <td>2.67</td>\n",
              "      <td>2</td>\n",
              "      <td>False</td>\n",
              "    </tr>\n",
              "    <tr>\n",
              "      <th>3329</th>\n",
              "      <td>WV</td>\n",
              "      <td>68</td>\n",
              "      <td>415</td>\n",
              "      <td>No</td>\n",
              "      <td>No</td>\n",
              "      <td>0</td>\n",
              "      <td>231.1</td>\n",
              "      <td>57</td>\n",
              "      <td>39.29</td>\n",
              "      <td>153.4</td>\n",
              "      <td>55</td>\n",
              "      <td>13.04</td>\n",
              "      <td>191.3</td>\n",
              "      <td>123</td>\n",
              "      <td>8.61</td>\n",
              "      <td>9.6</td>\n",
              "      <td>4</td>\n",
              "      <td>2.59</td>\n",
              "      <td>3</td>\n",
              "      <td>False</td>\n",
              "    </tr>\n",
              "    <tr>\n",
              "      <th>3330</th>\n",
              "      <td>RI</td>\n",
              "      <td>28</td>\n",
              "      <td>510</td>\n",
              "      <td>No</td>\n",
              "      <td>No</td>\n",
              "      <td>0</td>\n",
              "      <td>180.8</td>\n",
              "      <td>109</td>\n",
              "      <td>30.74</td>\n",
              "      <td>288.8</td>\n",
              "      <td>58</td>\n",
              "      <td>24.55</td>\n",
              "      <td>191.9</td>\n",
              "      <td>91</td>\n",
              "      <td>8.64</td>\n",
              "      <td>14.1</td>\n",
              "      <td>6</td>\n",
              "      <td>3.81</td>\n",
              "      <td>2</td>\n",
              "      <td>False</td>\n",
              "    </tr>\n",
              "    <tr>\n",
              "      <th>3331</th>\n",
              "      <td>CT</td>\n",
              "      <td>184</td>\n",
              "      <td>510</td>\n",
              "      <td>Yes</td>\n",
              "      <td>No</td>\n",
              "      <td>0</td>\n",
              "      <td>213.8</td>\n",
              "      <td>105</td>\n",
              "      <td>36.35</td>\n",
              "      <td>159.6</td>\n",
              "      <td>84</td>\n",
              "      <td>13.57</td>\n",
              "      <td>139.2</td>\n",
              "      <td>137</td>\n",
              "      <td>6.26</td>\n",
              "      <td>5.0</td>\n",
              "      <td>10</td>\n",
              "      <td>1.35</td>\n",
              "      <td>2</td>\n",
              "      <td>False</td>\n",
              "    </tr>\n",
              "    <tr>\n",
              "      <th>3332</th>\n",
              "      <td>TN</td>\n",
              "      <td>74</td>\n",
              "      <td>415</td>\n",
              "      <td>No</td>\n",
              "      <td>Yes</td>\n",
              "      <td>25</td>\n",
              "      <td>234.4</td>\n",
              "      <td>113</td>\n",
              "      <td>39.85</td>\n",
              "      <td>265.9</td>\n",
              "      <td>82</td>\n",
              "      <td>22.60</td>\n",
              "      <td>241.4</td>\n",
              "      <td>77</td>\n",
              "      <td>10.86</td>\n",
              "      <td>13.7</td>\n",
              "      <td>4</td>\n",
              "      <td>3.70</td>\n",
              "      <td>0</td>\n",
              "      <td>False</td>\n",
              "    </tr>\n",
              "  </tbody>\n",
              "</table>\n",
              "<p>3333 rows × 20 columns</p>\n",
              "</div>\n",
              "    <div class=\"colab-df-buttons\">\n",
              "\n",
              "  <div class=\"colab-df-container\">\n",
              "    <button class=\"colab-df-convert\" onclick=\"convertToInteractive('df-eda8cb23-bd2b-4e1f-9699-b87d2a8dc798')\"\n",
              "            title=\"Convert this dataframe to an interactive table.\"\n",
              "            style=\"display:none;\">\n",
              "\n",
              "  <svg xmlns=\"http://www.w3.org/2000/svg\" height=\"24px\" viewBox=\"0 -960 960 960\">\n",
              "    <path d=\"M120-120v-720h720v720H120Zm60-500h600v-160H180v160Zm220 220h160v-160H400v160Zm0 220h160v-160H400v160ZM180-400h160v-160H180v160Zm440 0h160v-160H620v160ZM180-180h160v-160H180v160Zm440 0h160v-160H620v160Z\"/>\n",
              "  </svg>\n",
              "    </button>\n",
              "\n",
              "  <style>\n",
              "    .colab-df-container {\n",
              "      display:flex;\n",
              "      gap: 12px;\n",
              "    }\n",
              "\n",
              "    .colab-df-convert {\n",
              "      background-color: #E8F0FE;\n",
              "      border: none;\n",
              "      border-radius: 50%;\n",
              "      cursor: pointer;\n",
              "      display: none;\n",
              "      fill: #1967D2;\n",
              "      height: 32px;\n",
              "      padding: 0 0 0 0;\n",
              "      width: 32px;\n",
              "    }\n",
              "\n",
              "    .colab-df-convert:hover {\n",
              "      background-color: #E2EBFA;\n",
              "      box-shadow: 0px 1px 2px rgba(60, 64, 67, 0.3), 0px 1px 3px 1px rgba(60, 64, 67, 0.15);\n",
              "      fill: #174EA6;\n",
              "    }\n",
              "\n",
              "    .colab-df-buttons div {\n",
              "      margin-bottom: 4px;\n",
              "    }\n",
              "\n",
              "    [theme=dark] .colab-df-convert {\n",
              "      background-color: #3B4455;\n",
              "      fill: #D2E3FC;\n",
              "    }\n",
              "\n",
              "    [theme=dark] .colab-df-convert:hover {\n",
              "      background-color: #434B5C;\n",
              "      box-shadow: 0px 1px 3px 1px rgba(0, 0, 0, 0.15);\n",
              "      filter: drop-shadow(0px 1px 2px rgba(0, 0, 0, 0.3));\n",
              "      fill: #FFFFFF;\n",
              "    }\n",
              "  </style>\n",
              "\n",
              "    <script>\n",
              "      const buttonEl =\n",
              "        document.querySelector('#df-eda8cb23-bd2b-4e1f-9699-b87d2a8dc798 button.colab-df-convert');\n",
              "      buttonEl.style.display =\n",
              "        google.colab.kernel.accessAllowed ? 'block' : 'none';\n",
              "\n",
              "      async function convertToInteractive(key) {\n",
              "        const element = document.querySelector('#df-eda8cb23-bd2b-4e1f-9699-b87d2a8dc798');\n",
              "        const dataTable =\n",
              "          await google.colab.kernel.invokeFunction('convertToInteractive',\n",
              "                                                    [key], {});\n",
              "        if (!dataTable) return;\n",
              "\n",
              "        const docLinkHtml = 'Like what you see? Visit the ' +\n",
              "          '<a target=\"_blank\" href=https://colab.research.google.com/notebooks/data_table.ipynb>data table notebook</a>'\n",
              "          + ' to learn more about interactive tables.';\n",
              "        element.innerHTML = '';\n",
              "        dataTable['output_type'] = 'display_data';\n",
              "        await google.colab.output.renderOutput(dataTable, element);\n",
              "        const docLink = document.createElement('div');\n",
              "        docLink.innerHTML = docLinkHtml;\n",
              "        element.appendChild(docLink);\n",
              "      }\n",
              "    </script>\n",
              "  </div>\n",
              "\n",
              "\n",
              "<div id=\"df-c41200c8-aedd-4a11-b008-dbead6689cb2\">\n",
              "  <button class=\"colab-df-quickchart\" onclick=\"quickchart('df-c41200c8-aedd-4a11-b008-dbead6689cb2')\"\n",
              "            title=\"Suggest charts\"\n",
              "            style=\"display:none;\">\n",
              "\n",
              "<svg xmlns=\"http://www.w3.org/2000/svg\" height=\"24px\"viewBox=\"0 0 24 24\"\n",
              "     width=\"24px\">\n",
              "    <g>\n",
              "        <path d=\"M19 3H5c-1.1 0-2 .9-2 2v14c0 1.1.9 2 2 2h14c1.1 0 2-.9 2-2V5c0-1.1-.9-2-2-2zM9 17H7v-7h2v7zm4 0h-2V7h2v10zm4 0h-2v-4h2v4z\"/>\n",
              "    </g>\n",
              "</svg>\n",
              "  </button>\n",
              "\n",
              "<style>\n",
              "  .colab-df-quickchart {\n",
              "      --bg-color: #E8F0FE;\n",
              "      --fill-color: #1967D2;\n",
              "      --hover-bg-color: #E2EBFA;\n",
              "      --hover-fill-color: #174EA6;\n",
              "      --disabled-fill-color: #AAA;\n",
              "      --disabled-bg-color: #DDD;\n",
              "  }\n",
              "\n",
              "  [theme=dark] .colab-df-quickchart {\n",
              "      --bg-color: #3B4455;\n",
              "      --fill-color: #D2E3FC;\n",
              "      --hover-bg-color: #434B5C;\n",
              "      --hover-fill-color: #FFFFFF;\n",
              "      --disabled-bg-color: #3B4455;\n",
              "      --disabled-fill-color: #666;\n",
              "  }\n",
              "\n",
              "  .colab-df-quickchart {\n",
              "    background-color: var(--bg-color);\n",
              "    border: none;\n",
              "    border-radius: 50%;\n",
              "    cursor: pointer;\n",
              "    display: none;\n",
              "    fill: var(--fill-color);\n",
              "    height: 32px;\n",
              "    padding: 0;\n",
              "    width: 32px;\n",
              "  }\n",
              "\n",
              "  .colab-df-quickchart:hover {\n",
              "    background-color: var(--hover-bg-color);\n",
              "    box-shadow: 0 1px 2px rgba(60, 64, 67, 0.3), 0 1px 3px 1px rgba(60, 64, 67, 0.15);\n",
              "    fill: var(--button-hover-fill-color);\n",
              "  }\n",
              "\n",
              "  .colab-df-quickchart-complete:disabled,\n",
              "  .colab-df-quickchart-complete:disabled:hover {\n",
              "    background-color: var(--disabled-bg-color);\n",
              "    fill: var(--disabled-fill-color);\n",
              "    box-shadow: none;\n",
              "  }\n",
              "\n",
              "  .colab-df-spinner {\n",
              "    border: 2px solid var(--fill-color);\n",
              "    border-color: transparent;\n",
              "    border-bottom-color: var(--fill-color);\n",
              "    animation:\n",
              "      spin 1s steps(1) infinite;\n",
              "  }\n",
              "\n",
              "  @keyframes spin {\n",
              "    0% {\n",
              "      border-color: transparent;\n",
              "      border-bottom-color: var(--fill-color);\n",
              "      border-left-color: var(--fill-color);\n",
              "    }\n",
              "    20% {\n",
              "      border-color: transparent;\n",
              "      border-left-color: var(--fill-color);\n",
              "      border-top-color: var(--fill-color);\n",
              "    }\n",
              "    30% {\n",
              "      border-color: transparent;\n",
              "      border-left-color: var(--fill-color);\n",
              "      border-top-color: var(--fill-color);\n",
              "      border-right-color: var(--fill-color);\n",
              "    }\n",
              "    40% {\n",
              "      border-color: transparent;\n",
              "      border-right-color: var(--fill-color);\n",
              "      border-top-color: var(--fill-color);\n",
              "    }\n",
              "    60% {\n",
              "      border-color: transparent;\n",
              "      border-right-color: var(--fill-color);\n",
              "    }\n",
              "    80% {\n",
              "      border-color: transparent;\n",
              "      border-right-color: var(--fill-color);\n",
              "      border-bottom-color: var(--fill-color);\n",
              "    }\n",
              "    90% {\n",
              "      border-color: transparent;\n",
              "      border-bottom-color: var(--fill-color);\n",
              "    }\n",
              "  }\n",
              "</style>\n",
              "\n",
              "  <script>\n",
              "    async function quickchart(key) {\n",
              "      const quickchartButtonEl =\n",
              "        document.querySelector('#' + key + ' button');\n",
              "      quickchartButtonEl.disabled = true;  // To prevent multiple clicks.\n",
              "      quickchartButtonEl.classList.add('colab-df-spinner');\n",
              "      try {\n",
              "        const charts = await google.colab.kernel.invokeFunction(\n",
              "            'suggestCharts', [key], {});\n",
              "      } catch (error) {\n",
              "        console.error('Error during call to suggestCharts:', error);\n",
              "      }\n",
              "      quickchartButtonEl.classList.remove('colab-df-spinner');\n",
              "      quickchartButtonEl.classList.add('colab-df-quickchart-complete');\n",
              "    }\n",
              "    (() => {\n",
              "      let quickchartButtonEl =\n",
              "        document.querySelector('#df-c41200c8-aedd-4a11-b008-dbead6689cb2 button');\n",
              "      quickchartButtonEl.style.display =\n",
              "        google.colab.kernel.accessAllowed ? 'block' : 'none';\n",
              "    })();\n",
              "  </script>\n",
              "</div>\n",
              "\n",
              "  <div id=\"id_bf4513e5-5f6a-4b36-bbca-7b97793894bd\">\n",
              "    <style>\n",
              "      .colab-df-generate {\n",
              "        background-color: #E8F0FE;\n",
              "        border: none;\n",
              "        border-radius: 50%;\n",
              "        cursor: pointer;\n",
              "        display: none;\n",
              "        fill: #1967D2;\n",
              "        height: 32px;\n",
              "        padding: 0 0 0 0;\n",
              "        width: 32px;\n",
              "      }\n",
              "\n",
              "      .colab-df-generate:hover {\n",
              "        background-color: #E2EBFA;\n",
              "        box-shadow: 0px 1px 2px rgba(60, 64, 67, 0.3), 0px 1px 3px 1px rgba(60, 64, 67, 0.15);\n",
              "        fill: #174EA6;\n",
              "      }\n",
              "\n",
              "      [theme=dark] .colab-df-generate {\n",
              "        background-color: #3B4455;\n",
              "        fill: #D2E3FC;\n",
              "      }\n",
              "\n",
              "      [theme=dark] .colab-df-generate:hover {\n",
              "        background-color: #434B5C;\n",
              "        box-shadow: 0px 1px 3px 1px rgba(0, 0, 0, 0.15);\n",
              "        filter: drop-shadow(0px 1px 2px rgba(0, 0, 0, 0.3));\n",
              "        fill: #FFFFFF;\n",
              "      }\n",
              "    </style>\n",
              "    <button class=\"colab-df-generate\" onclick=\"generateWithVariable('df')\"\n",
              "            title=\"Generate code using this dataframe.\"\n",
              "            style=\"display:none;\">\n",
              "\n",
              "  <svg xmlns=\"http://www.w3.org/2000/svg\" height=\"24px\"viewBox=\"0 0 24 24\"\n",
              "       width=\"24px\">\n",
              "    <path d=\"M7,19H8.4L18.45,9,17,7.55,7,17.6ZM5,21V16.75L18.45,3.32a2,2,0,0,1,2.83,0l1.4,1.43a1.91,1.91,0,0,1,.58,1.4,1.91,1.91,0,0,1-.58,1.4L9.25,21ZM18.45,9,17,7.55Zm-12,3A5.31,5.31,0,0,0,4.9,8.1,5.31,5.31,0,0,0,1,6.5,5.31,5.31,0,0,0,4.9,4.9,5.31,5.31,0,0,0,6.5,1,5.31,5.31,0,0,0,8.1,4.9,5.31,5.31,0,0,0,12,6.5,5.46,5.46,0,0,0,6.5,12Z\"/>\n",
              "  </svg>\n",
              "    </button>\n",
              "    <script>\n",
              "      (() => {\n",
              "      const buttonEl =\n",
              "        document.querySelector('#id_bf4513e5-5f6a-4b36-bbca-7b97793894bd button.colab-df-generate');\n",
              "      buttonEl.style.display =\n",
              "        google.colab.kernel.accessAllowed ? 'block' : 'none';\n",
              "\n",
              "      buttonEl.onclick = () => {\n",
              "        google.colab.notebook.generateWithVariable('df');\n",
              "      }\n",
              "      })();\n",
              "    </script>\n",
              "  </div>\n",
              "\n",
              "    </div>\n",
              "  </div>\n"
            ],
            "application/vnd.google.colaboratory.intrinsic+json": {
              "type": "dataframe",
              "variable_name": "df",
              "summary": "{\n  \"name\": \"df\",\n  \"rows\": 3333,\n  \"fields\": [\n    {\n      \"column\": \"State\",\n      \"properties\": {\n        \"dtype\": \"category\",\n        \"num_unique_values\": 51,\n        \"samples\": [\n          \"DC\",\n          \"WA\",\n          \"MS\"\n        ],\n        \"semantic_type\": \"\",\n        \"description\": \"\"\n      }\n    },\n    {\n      \"column\": \"Account length\",\n      \"properties\": {\n        \"dtype\": \"number\",\n        \"std\": 39,\n        \"min\": 1,\n        \"max\": 243,\n        \"num_unique_values\": 212,\n        \"samples\": [\n          172,\n          189,\n          44\n        ],\n        \"semantic_type\": \"\",\n        \"description\": \"\"\n      }\n    },\n    {\n      \"column\": \"Area code\",\n      \"properties\": {\n        \"dtype\": \"number\",\n        \"std\": 42,\n        \"min\": 408,\n        \"max\": 510,\n        \"num_unique_values\": 3,\n        \"samples\": [\n          415,\n          408,\n          510\n        ],\n        \"semantic_type\": \"\",\n        \"description\": \"\"\n      }\n    },\n    {\n      \"column\": \"International plan\",\n      \"properties\": {\n        \"dtype\": \"category\",\n        \"num_unique_values\": 2,\n        \"samples\": [\n          \"Yes\",\n          \"No\"\n        ],\n        \"semantic_type\": \"\",\n        \"description\": \"\"\n      }\n    },\n    {\n      \"column\": \"Voice mail plan\",\n      \"properties\": {\n        \"dtype\": \"category\",\n        \"num_unique_values\": 2,\n        \"samples\": [\n          \"No\",\n          \"Yes\"\n        ],\n        \"semantic_type\": \"\",\n        \"description\": \"\"\n      }\n    },\n    {\n      \"column\": \"Number vmail messages\",\n      \"properties\": {\n        \"dtype\": \"number\",\n        \"std\": 13,\n        \"min\": 0,\n        \"max\": 51,\n        \"num_unique_values\": 46,\n        \"samples\": [\n          44,\n          48\n        ],\n        \"semantic_type\": \"\",\n        \"description\": \"\"\n      }\n    },\n    {\n      \"column\": \"Total day minutes\",\n      \"properties\": {\n        \"dtype\": \"number\",\n        \"std\": 54.46738920237137,\n        \"min\": 0.0,\n        \"max\": 350.8,\n        \"num_unique_values\": 1667,\n        \"samples\": [\n          87.6,\n          115.7\n        ],\n        \"semantic_type\": \"\",\n        \"description\": \"\"\n      }\n    },\n    {\n      \"column\": \"Total day calls\",\n      \"properties\": {\n        \"dtype\": \"number\",\n        \"std\": 20,\n        \"min\": 0,\n        \"max\": 165,\n        \"num_unique_values\": 119,\n        \"samples\": [\n          125,\n          59\n        ],\n        \"semantic_type\": \"\",\n        \"description\": \"\"\n      }\n    },\n    {\n      \"column\": \"Total day charge\",\n      \"properties\": {\n        \"dtype\": \"number\",\n        \"std\": 9.2594345539305,\n        \"min\": 0.0,\n        \"max\": 59.64,\n        \"num_unique_values\": 1667,\n        \"samples\": [\n          14.89,\n          19.67\n        ],\n        \"semantic_type\": \"\",\n        \"description\": \"\"\n      }\n    },\n    {\n      \"column\": \"Total eve minutes\",\n      \"properties\": {\n        \"dtype\": \"number\",\n        \"std\": 50.713844425812,\n        \"min\": 0.0,\n        \"max\": 363.7,\n        \"num_unique_values\": 1611,\n        \"samples\": [\n          215.1,\n          219.1\n        ],\n        \"semantic_type\": \"\",\n        \"description\": \"\"\n      }\n    },\n    {\n      \"column\": \"Total eve calls\",\n      \"properties\": {\n        \"dtype\": \"number\",\n        \"std\": 19,\n        \"min\": 0,\n        \"max\": 170,\n        \"num_unique_values\": 123,\n        \"samples\": [\n          93,\n          142\n        ],\n        \"semantic_type\": \"\",\n        \"description\": \"\"\n      }\n    },\n    {\n      \"column\": \"Total eve charge\",\n      \"properties\": {\n        \"dtype\": \"number\",\n        \"std\": 4.310667643110341,\n        \"min\": 0.0,\n        \"max\": 30.91,\n        \"num_unique_values\": 1440,\n        \"samples\": [\n          24.85,\n          14.19\n        ],\n        \"semantic_type\": \"\",\n        \"description\": \"\"\n      }\n    },\n    {\n      \"column\": \"Total night minutes\",\n      \"properties\": {\n        \"dtype\": \"number\",\n        \"std\": 50.57384701365836,\n        \"min\": 23.2,\n        \"max\": 395.0,\n        \"num_unique_values\": 1591,\n        \"samples\": [\n          311.1,\n          179.1\n        ],\n        \"semantic_type\": \"\",\n        \"description\": \"\"\n      }\n    },\n    {\n      \"column\": \"Total night calls\",\n      \"properties\": {\n        \"dtype\": \"number\",\n        \"std\": 19,\n        \"min\": 33,\n        \"max\": 175,\n        \"num_unique_values\": 120,\n        \"samples\": [\n          60,\n          73\n        ],\n        \"semantic_type\": \"\",\n        \"description\": \"\"\n      }\n    },\n    {\n      \"column\": \"Total night charge\",\n      \"properties\": {\n        \"dtype\": \"number\",\n        \"std\": 2.275872837660029,\n        \"min\": 1.04,\n        \"max\": 17.77,\n        \"num_unique_values\": 933,\n        \"samples\": [\n          6.2,\n          6.86\n        ],\n        \"semantic_type\": \"\",\n        \"description\": \"\"\n      }\n    },\n    {\n      \"column\": \"Total intl minutes\",\n      \"properties\": {\n        \"dtype\": \"number\",\n        \"std\": 2.791839548408416,\n        \"min\": 0.0,\n        \"max\": 20.0,\n        \"num_unique_values\": 162,\n        \"samples\": [\n          16.6,\n          14.8\n        ],\n        \"semantic_type\": \"\",\n        \"description\": \"\"\n      }\n    },\n    {\n      \"column\": \"Total intl calls\",\n      \"properties\": {\n        \"dtype\": \"number\",\n        \"std\": 2,\n        \"min\": 0,\n        \"max\": 20,\n        \"num_unique_values\": 21,\n        \"samples\": [\n          3,\n          14\n        ],\n        \"semantic_type\": \"\",\n        \"description\": \"\"\n      }\n    },\n    {\n      \"column\": \"Total intl charge\",\n      \"properties\": {\n        \"dtype\": \"number\",\n        \"std\": 0.753772612663046,\n        \"min\": 0.0,\n        \"max\": 5.4,\n        \"num_unique_values\": 162,\n        \"samples\": [\n          4.48,\n          4.0\n        ],\n        \"semantic_type\": \"\",\n        \"description\": \"\"\n      }\n    },\n    {\n      \"column\": \"Customer service calls\",\n      \"properties\": {\n        \"dtype\": \"number\",\n        \"std\": 1,\n        \"min\": 0,\n        \"max\": 9,\n        \"num_unique_values\": 10,\n        \"samples\": [\n          6,\n          0\n        ],\n        \"semantic_type\": \"\",\n        \"description\": \"\"\n      }\n    },\n    {\n      \"column\": \"Churn\",\n      \"properties\": {\n        \"dtype\": \"boolean\",\n        \"num_unique_values\": 2,\n        \"samples\": [\n          true,\n          false\n        ],\n        \"semantic_type\": \"\",\n        \"description\": \"\"\n      }\n    }\n  ]\n}"
            }
          },
          "metadata": {},
          "execution_count": 4
        }
      ]
    },
    {
      "cell_type": "markdown",
      "source": [
        "### Dataset Rows & Columns count"
      ],
      "metadata": {
        "id": "7hBIi_osiCS2"
      }
    },
    {
      "cell_type": "code",
      "source": [
        "# Dataset Rows & Columns count\n",
        "\n",
        "df.shape"
      ],
      "metadata": {
        "id": "Kllu7SJgmLij",
        "colab": {
          "base_uri": "https://localhost:8080/"
        },
        "outputId": "26136e8b-ede5-4166-e742-72dd537519b3"
      },
      "execution_count": 5,
      "outputs": [
        {
          "output_type": "execute_result",
          "data": {
            "text/plain": [
              "(3333, 20)"
            ]
          },
          "metadata": {},
          "execution_count": 5
        }
      ]
    },
    {
      "cell_type": "markdown",
      "source": [
        "### Dataset Information"
      ],
      "metadata": {
        "id": "JlHwYmJAmNHm"
      }
    },
    {
      "cell_type": "code",
      "source": [
        "# Dataset Info\n",
        "df.info()\n"
      ],
      "metadata": {
        "id": "e9hRXRi6meOf",
        "colab": {
          "base_uri": "https://localhost:8080/"
        },
        "outputId": "298b8842-5c1b-4a99-d0e5-395fc90ac744"
      },
      "execution_count": 6,
      "outputs": [
        {
          "output_type": "stream",
          "name": "stdout",
          "text": [
            "<class 'pandas.core.frame.DataFrame'>\n",
            "RangeIndex: 3333 entries, 0 to 3332\n",
            "Data columns (total 20 columns):\n",
            " #   Column                  Non-Null Count  Dtype  \n",
            "---  ------                  --------------  -----  \n",
            " 0   State                   3333 non-null   object \n",
            " 1   Account length          3333 non-null   int64  \n",
            " 2   Area code               3333 non-null   int64  \n",
            " 3   International plan      3333 non-null   object \n",
            " 4   Voice mail plan         3333 non-null   object \n",
            " 5   Number vmail messages   3333 non-null   int64  \n",
            " 6   Total day minutes       3333 non-null   float64\n",
            " 7   Total day calls         3333 non-null   int64  \n",
            " 8   Total day charge        3333 non-null   float64\n",
            " 9   Total eve minutes       3333 non-null   float64\n",
            " 10  Total eve calls         3333 non-null   int64  \n",
            " 11  Total eve charge        3333 non-null   float64\n",
            " 12  Total night minutes     3333 non-null   float64\n",
            " 13  Total night calls       3333 non-null   int64  \n",
            " 14  Total night charge      3333 non-null   float64\n",
            " 15  Total intl minutes      3333 non-null   float64\n",
            " 16  Total intl calls        3333 non-null   int64  \n",
            " 17  Total intl charge       3333 non-null   float64\n",
            " 18  Customer service calls  3333 non-null   int64  \n",
            " 19  Churn                   3333 non-null   bool   \n",
            "dtypes: bool(1), float64(8), int64(8), object(3)\n",
            "memory usage: 498.1+ KB\n"
          ]
        }
      ]
    },
    {
      "cell_type": "markdown",
      "source": [
        "#### Duplicate Values"
      ],
      "metadata": {
        "id": "35m5QtbWiB9F"
      }
    },
    {
      "cell_type": "code",
      "source": [
        "# Dataset Duplicate Value Count\n",
        "\n",
        "df.drop_duplicates(inplace=True)\n"
      ],
      "metadata": {
        "id": "1sLdpKYkmox0"
      },
      "execution_count": 7,
      "outputs": []
    },
    {
      "cell_type": "markdown",
      "source": [
        "#### Missing Values/Null Values"
      ],
      "metadata": {
        "id": "PoPl-ycgm1ru"
      }
    },
    {
      "cell_type": "code",
      "source": [
        "# Missing Values/Null Values Count\n",
        "\n",
        "df.isnull().sum()"
      ],
      "metadata": {
        "id": "GgHWkxvamxVg",
        "colab": {
          "base_uri": "https://localhost:8080/"
        },
        "outputId": "b3d33fe3-2279-48ff-ee7e-6cc198573f04"
      },
      "execution_count": 8,
      "outputs": [
        {
          "output_type": "execute_result",
          "data": {
            "text/plain": [
              "State                     0\n",
              "Account length            0\n",
              "Area code                 0\n",
              "International plan        0\n",
              "Voice mail plan           0\n",
              "Number vmail messages     0\n",
              "Total day minutes         0\n",
              "Total day calls           0\n",
              "Total day charge          0\n",
              "Total eve minutes         0\n",
              "Total eve calls           0\n",
              "Total eve charge          0\n",
              "Total night minutes       0\n",
              "Total night calls         0\n",
              "Total night charge        0\n",
              "Total intl minutes        0\n",
              "Total intl calls          0\n",
              "Total intl charge         0\n",
              "Customer service calls    0\n",
              "Churn                     0\n",
              "dtype: int64"
            ]
          },
          "metadata": {},
          "execution_count": 8
        }
      ]
    },
    {
      "cell_type": "code",
      "source": [
        "# Visualizing the missing values\n",
        "''' We will use heatmap to show null values as it is very easy to understand\n",
        "if there  WOULD HAVE BEEN NULL VALUES IT WOULD HAVE SHOWN WHITE small segment at corrosponding row and column'''\n",
        "\n",
        "plt.figure(figsize=(10, 6))\n",
        "sns.heatmap(df.isnull(), cmap='gray',vmin=0, vmax=1)\n",
        "plt.title('Null Values Heatmap')\n",
        "plt.show()"
      ],
      "metadata": {
        "id": "3q5wnI3om9sJ",
        "colab": {
          "base_uri": "https://localhost:8080/",
          "height": 703
        },
        "outputId": "7cd831b1-9aac-4090-ac1e-cbad21715f86"
      },
      "execution_count": 9,
      "outputs": [
        {
          "output_type": "display_data",
          "data": {
            "text/plain": [
              "<Figure size 1000x600 with 2 Axes>"
            ],
            "image/png": "[encoded data removed]"
          },
          "metadata": {}
        }
      ]
    },
    {
      "cell_type": "markdown",
      "source": [
        "### What did you know about your dataset?"
      ],
      "metadata": {
        "id": "H0kj-8xxnORC"
      }
    },
    {
      "cell_type": "markdown",
      "source": [
        " The dataset given is a dataset from Telecommunication industry, and we have to analysis the churn of customers and the insights behind it.\n",
        "\n",
        "Churn prediction is analytical studies on the possibility of a customer abandoning a product or service. The goal is to understand and take steps to change it before the costumer gives up the product or service.\n",
        "\n",
        "The above dataset has 3333 rows and 20 columns. There are no mising values and duplicate values in the dataset.\n"
      ],
      "metadata": {
        "id": "gfoNAAC-nUe_"
      }
    },
    {
      "cell_type": "markdown",
      "source": [
        "## ***2. Understanding Your Variables***"
      ],
      "metadata": {
        "id": "nA9Y7ga8ng1Z"
      }
    },
    {
      "cell_type": "code",
      "source": [
        "# Dataset Columns\n",
        "\n",
        "df.columns"
      ],
      "metadata": {
        "id": "j7xfkqrt5Ag5",
        "colab": {
          "base_uri": "https://localhost:8080/"
        },
        "outputId": "3c189230-ca8d-4d1f-dce3-396f52bea790"
      },
      "execution_count": 10,
      "outputs": [
        {
          "output_type": "execute_result",
          "data": {
            "text/plain": [
              "Index(['State', 'Account length', 'Area code', 'International plan',\n",
              "       'Voice mail plan', 'Number vmail messages', 'Total day minutes',\n",
              "       'Total day calls', 'Total day charge', 'Total eve minutes',\n",
              "       'Total eve calls', 'Total eve charge', 'Total night minutes',\n",
              "       'Total night calls', 'Total night charge', 'Total intl minutes',\n",
              "       'Total intl calls', 'Total intl charge', 'Customer service calls',\n",
              "       'Churn'],\n",
              "      dtype='object')"
            ]
          },
          "metadata": {},
          "execution_count": 10
        }
      ]
    },
    {
      "cell_type": "code",
      "source": [],
      "metadata": {
        "id": "rPs5r3HTlc13"
      },
      "execution_count": 10,
      "outputs": []
    },
    {
      "cell_type": "code",
      "source": [
        "# Dataset Describe\n",
        "\n",
        "''' Here we are calculating all the statistical values to describe all the  columns '''\n",
        "\n",
        "df.describe(include = 'all').T"
      ],
      "metadata": {
        "id": "DnOaZdaE5Q5t",
        "colab": {
          "base_uri": "https://localhost:8080/",
          "height": 676
        },
        "outputId": "b3d2beb7-6479-4dcb-bf3f-b9e71480cc6a"
      },
      "execution_count": 11,
      "outputs": [
        {
          "output_type": "execute_result",
          "data": {
            "text/plain": [
              "                         count unique    top  freq        mean        std  \\\n",
              "State                     3333     51     WV   106         NaN        NaN   \n",
              "Account length          3333.0    NaN    NaN   NaN  101.064806  39.822106   \n",
              "Area code               3333.0    NaN    NaN   NaN  437.182418   42.37129   \n",
              "International plan        3333      2     No  3010         NaN        NaN   \n",
              "Voice mail plan           3333      2     No  2411         NaN        NaN   \n",
              "Number vmail messages   3333.0    NaN    NaN   NaN     8.09901  13.688365   \n",
              "Total day minutes       3333.0    NaN    NaN   NaN  179.775098  54.467389   \n",
              "Total day calls         3333.0    NaN    NaN   NaN  100.435644  20.069084   \n",
              "Total day charge        3333.0    NaN    NaN   NaN   30.562307   9.259435   \n",
              "Total eve minutes       3333.0    NaN    NaN   NaN  200.980348  50.713844   \n",
              "Total eve calls         3333.0    NaN    NaN   NaN  100.114311  19.922625   \n",
              "Total eve charge        3333.0    NaN    NaN   NaN    17.08354   4.310668   \n",
              "Total night minutes     3333.0    NaN    NaN   NaN  200.872037  50.573847   \n",
              "Total night calls       3333.0    NaN    NaN   NaN  100.107711  19.568609   \n",
              "Total night charge      3333.0    NaN    NaN   NaN    9.039325   2.275873   \n",
              "Total intl minutes      3333.0    NaN    NaN   NaN   10.237294    2.79184   \n",
              "Total intl calls        3333.0    NaN    NaN   NaN    4.479448   2.461214   \n",
              "Total intl charge       3333.0    NaN    NaN   NaN    2.764581   0.753773   \n",
              "Customer service calls  3333.0    NaN    NaN   NaN    1.562856   1.315491   \n",
              "Churn                     3333      2  False  2850         NaN        NaN   \n",
              "\n",
              "                          min    25%    50%    75%    max  \n",
              "State                     NaN    NaN    NaN    NaN    NaN  \n",
              "Account length            1.0   74.0  101.0  127.0  243.0  \n",
              "Area code               408.0  408.0  415.0  510.0  510.0  \n",
              "International plan        NaN    NaN    NaN    NaN    NaN  \n",
              "Voice mail plan           NaN    NaN    NaN    NaN    NaN  \n",
              "Number vmail messages     0.0    0.0    0.0   20.0   51.0  \n",
              "Total day minutes         0.0  143.7  179.4  216.4  350.8  \n",
              "Total day calls           0.0   87.0  101.0  114.0  165.0  \n",
              "Total day charge          0.0  24.43   30.5  36.79  59.64  \n",
              "Total eve minutes         0.0  166.6  201.4  235.3  363.7  \n",
              "Total eve calls           0.0   87.0  100.0  114.0  170.0  \n",
              "Total eve charge          0.0  14.16  17.12   20.0  30.91  \n",
              "Total night minutes      23.2  167.0  201.2  235.3  395.0  \n",
              "Total night calls        33.0   87.0  100.0  113.0  175.0  \n",
              "Total night charge       1.04   7.52   9.05  10.59  17.77  \n",
              "Total intl minutes        0.0    8.5   10.3   12.1   20.0  \n",
              "Total intl calls          0.0    3.0    4.0    6.0   20.0  \n",
              "Total intl charge         0.0    2.3   2.78   3.27    5.4  \n",
              "Customer service calls    0.0    1.0    1.0    2.0    9.0  \n",
              "Churn                     NaN    NaN    NaN    NaN    NaN  "
            ],
            "text/html": [
              "\n",
              "  <div id=\"df-6429f590-2879-423d-955f-62ef518704bc\" class=\"colab-df-container\">\n",
              "    <div>\n",
              "<style scoped>\n",
              "    .dataframe tbody tr th:only-of-type {\n",
              "        vertical-align: middle;\n",
              "    }\n",
              "\n",
              "    .dataframe tbody tr th {\n",
              "        vertical-align: top;\n",
              "    }\n",
              "\n",
              "    .dataframe thead th {\n",
              "        text-align: right;\n",
              "    }\n",
              "</style>\n",
              "<table border=\"1\" class=\"dataframe\">\n",
              "  <thead>\n",
              "    <tr style=\"text-align: right;\">\n",
              "      <th></th>\n",
              "      <th>count</th>\n",
              "      <th>unique</th>\n",
              "      <th>top</th>\n",
              "      <th>freq</th>\n",
              "      <th>mean</th>\n",
              "      <th>std</th>\n",
              "      <th>min</th>\n",
              "      <th>25%</th>\n",
              "      <th>50%</th>\n",
              "      <th>75%</th>\n",
              "      <th>max</th>\n",
              "    </tr>\n",
              "  </thead>\n",
              "  <tbody>\n",
              "    <tr>\n",
              "      <th>State</th>\n",
              "      <td>3333</td>\n",
              "      <td>51</td>\n",
              "      <td>WV</td>\n",
              "      <td>106</td>\n",
              "      <td>NaN</td>\n",
              "      <td>NaN</td>\n",
              "      <td>NaN</td>\n",
              "      <td>NaN</td>\n",
              "      <td>NaN</td>\n",
              "      <td>NaN</td>\n",
              "      <td>NaN</td>\n",
              "    </tr>\n",
              "    <tr>\n",
              "      <th>Account length</th>\n",
              "      <td>3333.0</td>\n",
              "      <td>NaN</td>\n",
              "      <td>NaN</td>\n",
              "      <td>NaN</td>\n",
              "      <td>101.064806</td>\n",
              "      <td>39.822106</td>\n",
              "      <td>1.0</td>\n",
              "      <td>74.0</td>\n",
              "      <td>101.0</td>\n",
              "      <td>127.0</td>\n",
              "      <td>243.0</td>\n",
              "    </tr>\n",
              "    <tr>\n",
              "      <th>Area code</th>\n",
              "      <td>3333.0</td>\n",
              "      <td>NaN</td>\n",
              "      <td>NaN</td>\n",
              "      <td>NaN</td>\n",
              "      <td>437.182418</td>\n",
              "      <td>42.37129</td>\n",
              "      <td>408.0</td>\n",
              "      <td>408.0</td>\n",
              "      <td>415.0</td>\n",
              "      <td>510.0</td>\n",
              "      <td>510.0</td>\n",
              "    </tr>\n",
              "    <tr>\n",
              "      <th>International plan</th>\n",
              "      <td>3333</td>\n",
              "      <td>2</td>\n",
              "      <td>No</td>\n",
              "      <td>3010</td>\n",
              "      <td>NaN</td>\n",
              "      <td>NaN</td>\n",
              "      <td>NaN</td>\n",
              "      <td>NaN</td>\n",
              "      <td>NaN</td>\n",
              "      <td>NaN</td>\n",
              "      <td>NaN</td>\n",
              "    </tr>\n",
              "    <tr>\n",
              "      <th>Voice mail plan</th>\n",
              "      <td>3333</td>\n",
              "      <td>2</td>\n",
              "      <td>No</td>\n",
              "      <td>2411</td>\n",
              "      <td>NaN</td>\n",
              "      <td>NaN</td>\n",
              "      <td>NaN</td>\n",
              "      <td>NaN</td>\n",
              "      <td>NaN</td>\n",
              "      <td>NaN</td>\n",
              "      <td>NaN</td>\n",
              "    </tr>\n",
              "    <tr>\n",
              "      <th>Number vmail messages</th>\n",
              "      <td>3333.0</td>\n",
              "      <td>NaN</td>\n",
              "      <td>NaN</td>\n",
              "      <td>NaN</td>\n",
              "      <td>8.09901</td>\n",
              "      <td>13.688365</td>\n",
              "      <td>0.0</td>\n",
              "      <td>0.0</td>\n",
              "      <td>0.0</td>\n",
              "      <td>20.0</td>\n",
              "      <td>51.0</td>\n",
              "    </tr>\n",
              "    <tr>\n",
              "      <th>Total day minutes</th>\n",
              "      <td>3333.0</td>\n",
              "      <td>NaN</td>\n",
              "      <td>NaN</td>\n",
              "      <td>NaN</td>\n",
              "      <td>179.775098</td>\n",
              "      <td>54.467389</td>\n",
              "      <td>0.0</td>\n",
              "      <td>143.7</td>\n",
              "      <td>179.4</td>\n",
              "      <td>216.4</td>\n",
              "      <td>350.8</td>\n",
              "    </tr>\n",
              "    <tr>\n",
              "      <th>Total day calls</th>\n",
              "      <td>3333.0</td>\n",
              "      <td>NaN</td>\n",
              "      <td>NaN</td>\n",
              "      <td>NaN</td>\n",
              "      <td>100.435644</td>\n",
              "      <td>20.069084</td>\n",
              "      <td>0.0</td>\n",
              "      <td>87.0</td>\n",
              "      <td>101.0</td>\n",
              "      <td>114.0</td>\n",
              "      <td>165.0</td>\n",
              "    </tr>\n",
              "    <tr>\n",
              "      <th>Total day charge</th>\n",
              "      <td>3333.0</td>\n",
              "      <td>NaN</td>\n",
              "      <td>NaN</td>\n",
              "      <td>NaN</td>\n",
              "      <td>30.562307</td>\n",
              "      <td>9.259435</td>\n",
              "      <td>0.0</td>\n",
              "      <td>24.43</td>\n",
              "      <td>30.5</td>\n",
              "      <td>36.79</td>\n",
              "      <td>59.64</td>\n",
              "    </tr>\n",
              "    <tr>\n",
              "      <th>Total eve minutes</th>\n",
              "      <td>3333.0</td>\n",
              "      <td>NaN</td>\n",
              "      <td>NaN</td>\n",
              "      <td>NaN</td>\n",
              "      <td>200.980348</td>\n",
              "      <td>50.713844</td>\n",
              "      <td>0.0</td>\n",
              "      <td>166.6</td>\n",
              "      <td>201.4</td>\n",
              "      <td>235.3</td>\n",
              "      <td>363.7</td>\n",
              "    </tr>\n",
              "    <tr>\n",
              "      <th>Total eve calls</th>\n",
              "      <td>3333.0</td>\n",
              "      <td>NaN</td>\n",
              "      <td>NaN</td>\n",
              "      <td>NaN</td>\n",
              "      <td>100.114311</td>\n",
              "      <td>19.922625</td>\n",
              "      <td>0.0</td>\n",
              "      <td>87.0</td>\n",
              "      <td>100.0</td>\n",
              "      <td>114.0</td>\n",
              "      <td>170.0</td>\n",
              "    </tr>\n",
              "    <tr>\n",
              "      <th>Total eve charge</th>\n",
              "      <td>3333.0</td>\n",
              "      <td>NaN</td>\n",
              "      <td>NaN</td>\n",
              "      <td>NaN</td>\n",
              "      <td>17.08354</td>\n",
              "      <td>4.310668</td>\n",
              "      <td>0.0</td>\n",
              "      <td>14.16</td>\n",
              "      <td>17.12</td>\n",
              "      <td>20.0</td>\n",
              "      <td>30.91</td>\n",
              "    </tr>\n",
              "    <tr>\n",
              "      <th>Total night minutes</th>\n",
              "      <td>3333.0</td>\n",
              "      <td>NaN</td>\n",
              "      <td>NaN</td>\n",
              "      <td>NaN</td>\n",
              "      <td>200.872037</td>\n",
              "      <td>50.573847</td>\n",
              "      <td>23.2</td>\n",
              "      <td>167.0</td>\n",
              "      <td>201.2</td>\n",
              "      <td>235.3</td>\n",
              "      <td>395.0</td>\n",
              "    </tr>\n",
              "    <tr>\n",
              "      <th>Total night calls</th>\n",
              "      <td>3333.0</td>\n",
              "      <td>NaN</td>\n",
              "      <td>NaN</td>\n",
              "      <td>NaN</td>\n",
              "      <td>100.107711</td>\n",
              "      <td>19.568609</td>\n",
              "      <td>33.0</td>\n",
              "      <td>87.0</td>\n",
              "      <td>100.0</td>\n",
              "      <td>113.0</td>\n",
              "      <td>175.0</td>\n",
              "    </tr>\n",
              "    <tr>\n",
              "      <th>Total night charge</th>\n",
              "      <td>3333.0</td>\n",
              "      <td>NaN</td>\n",
              "      <td>NaN</td>\n",
              "      <td>NaN</td>\n",
              "      <td>9.039325</td>\n",
              "      <td>2.275873</td>\n",
              "      <td>1.04</td>\n",
              "      <td>7.52</td>\n",
              "      <td>9.05</td>\n",
              "      <td>10.59</td>\n",
              "      <td>17.77</td>\n",
              "    </tr>\n",
              "    <tr>\n",
              "      <th>Total intl minutes</th>\n",
              "      <td>3333.0</td>\n",
              "      <td>NaN</td>\n",
              "      <td>NaN</td>\n",
              "      <td>NaN</td>\n",
              "      <td>10.237294</td>\n",
              "      <td>2.79184</td>\n",
              "      <td>0.0</td>\n",
              "      <td>8.5</td>\n",
              "      <td>10.3</td>\n",
              "      <td>12.1</td>\n",
              "      <td>20.0</td>\n",
              "    </tr>\n",
              "    <tr>\n",
              "      <th>Total intl calls</th>\n",
              "      <td>3333.0</td>\n",
              "      <td>NaN</td>\n",
              "      <td>NaN</td>\n",
              "      <td>NaN</td>\n",
              "      <td>4.479448</td>\n",
              "      <td>2.461214</td>\n",
              "      <td>0.0</td>\n",
              "      <td>3.0</td>\n",
              "      <td>4.0</td>\n",
              "      <td>6.0</td>\n",
              "      <td>20.0</td>\n",
              "    </tr>\n",
              "    <tr>\n",
              "      <th>Total intl charge</th>\n",
              "      <td>3333.0</td>\n",
              "      <td>NaN</td>\n",
              "      <td>NaN</td>\n",
              "      <td>NaN</td>\n",
              "      <td>2.764581</td>\n",
              "      <td>0.753773</td>\n",
              "      <td>0.0</td>\n",
              "      <td>2.3</td>\n",
              "      <td>2.78</td>\n",
              "      <td>3.27</td>\n",
              "      <td>5.4</td>\n",
              "    </tr>\n",
              "    <tr>\n",
              "      <th>Customer service calls</th>\n",
              "      <td>3333.0</td>\n",
              "      <td>NaN</td>\n",
              "      <td>NaN</td>\n",
              "      <td>NaN</td>\n",
              "      <td>1.562856</td>\n",
              "      <td>1.315491</td>\n",
              "      <td>0.0</td>\n",
              "      <td>1.0</td>\n",
              "      <td>1.0</td>\n",
              "      <td>2.0</td>\n",
              "      <td>9.0</td>\n",
              "    </tr>\n",
              "    <tr>\n",
              "      <th>Churn</th>\n",
              "      <td>3333</td>\n",
              "      <td>2</td>\n",
              "      <td>False</td>\n",
              "      <td>2850</td>\n",
              "      <td>NaN</td>\n",
              "      <td>NaN</td>\n",
              "      <td>NaN</td>\n",
              "      <td>NaN</td>\n",
              "      <td>NaN</td>\n",
              "      <td>NaN</td>\n",
              "      <td>NaN</td>\n",
              "    </tr>\n",
              "  </tbody>\n",
              "</table>\n",
              "</div>\n",
              "    <div class=\"colab-df-buttons\">\n",
              "\n",
              "  <div class=\"colab-df-container\">\n",
              "    <button class=\"colab-df-convert\" onclick=\"convertToInteractive('df-6429f590-2879-423d-955f-62ef518704bc')\"\n",
              "            title=\"Convert this dataframe to an interactive table.\"\n",
              "            style=\"display:none;\">\n",
              "\n",
              "  <svg xmlns=\"http://www.w3.org/2000/svg\" height=\"24px\" viewBox=\"0 -960 960 960\">\n",
              "    <path d=\"M120-120v-720h720v720H120Zm60-500h600v-160H180v160Zm220 220h160v-160H400v160Zm0 220h160v-160H400v160ZM180-400h160v-160H180v160Zm440 0h160v-160H620v160ZM180-180h160v-160H180v160Zm440 0h160v-160H620v160Z\"/>\n",
              "  </svg>\n",
              "    </button>\n",
              "\n",
              "  <style>\n",
              "    .colab-df-container {\n",
              "      display:flex;\n",
              "      gap: 12px;\n",
              "    }\n",
              "\n",
              "    .colab-df-convert {\n",
              "      background-color: #E8F0FE;\n",
              "      border: none;\n",
              "      border-radius: 50%;\n",
              "      cursor: pointer;\n",
              "      display: none;\n",
              "      fill: #1967D2;\n",
              "      height: 32px;\n",
              "      padding: 0 0 0 0;\n",
              "      width: 32px;\n",
              "    }\n",
              "\n",
              "    .colab-df-convert:hover {\n",
              "      background-color: #E2EBFA;\n",
              "      box-shadow: 0px 1px 2px rgba(60, 64, 67, 0.3), 0px 1px 3px 1px rgba(60, 64, 67, 0.15);\n",
              "      fill: #174EA6;\n",
              "    }\n",
              "\n",
              "    .colab-df-buttons div {\n",
              "      margin-bottom: 4px;\n",
              "    }\n",
              "\n",
              "    [theme=dark] .colab-df-convert {\n",
              "      background-color: #3B4455;\n",
              "      fill: #D2E3FC;\n",
              "    }\n",
              "\n",
              "    [theme=dark] .colab-df-convert:hover {\n",
              "      background-color: #434B5C;\n",
              "      box-shadow: 0px 1px 3px 1px rgba(0, 0, 0, 0.15);\n",
              "      filter: drop-shadow(0px 1px 2px rgba(0, 0, 0, 0.3));\n",
              "      fill: #FFFFFF;\n",
              "    }\n",
              "  </style>\n",
              "\n",
              "    <script>\n",
              "      const buttonEl =\n",
              "        document.querySelector('#df-6429f590-2879-423d-955f-62ef518704bc button.colab-df-convert');\n",
              "      buttonEl.style.display =\n",
              "        google.colab.kernel.accessAllowed ? 'block' : 'none';\n",
              "\n",
              "      async function convertToInteractive(key) {\n",
              "        const element = document.querySelector('#df-6429f590-2879-423d-955f-62ef518704bc');\n",
              "        const dataTable =\n",
              "          await google.colab.kernel.invokeFunction('convertToInteractive',\n",
              "                                                    [key], {});\n",
              "        if (!dataTable) return;\n",
              "\n",
              "        const docLinkHtml = 'Like what you see? Visit the ' +\n",
              "          '<a target=\"_blank\" href=https://colab.research.google.com/notebooks/data_table.ipynb>data table notebook</a>'\n",
              "          + ' to learn more about interactive tables.';\n",
              "        element.innerHTML = '';\n",
              "        dataTable['output_type'] = 'display_data';\n",
              "        await google.colab.output.renderOutput(dataTable, element);\n",
              "        const docLink = document.createElement('div');\n",
              "        docLink.innerHTML = docLinkHtml;\n",
              "        element.appendChild(docLink);\n",
              "      }\n",
              "    </script>\n",
              "  </div>\n",
              "\n",
              "\n",
              "<div id=\"df-0b52eb3d-4ece-4b44-96e1-3841ca11ee35\">\n",
              "  <button class=\"colab-df-quickchart\" onclick=\"quickchart('df-0b52eb3d-4ece-4b44-96e1-3841ca11ee35')\"\n",
              "            title=\"Suggest charts\"\n",
              "            style=\"display:none;\">\n",
              "\n",
              "<svg xmlns=\"http://www.w3.org/2000/svg\" height=\"24px\"viewBox=\"0 0 24 24\"\n",
              "     width=\"24px\">\n",
              "    <g>\n",
              "        <path d=\"M19 3H5c-1.1 0-2 .9-2 2v14c0 1.1.9 2 2 2h14c1.1 0 2-.9 2-2V5c0-1.1-.9-2-2-2zM9 17H7v-7h2v7zm4 0h-2V7h2v10zm4 0h-2v-4h2v4z\"/>\n",
              "    </g>\n",
              "</svg>\n",
              "  </button>\n",
              "\n",
              "<style>\n",
              "  .colab-df-quickchart {\n",
              "      --bg-color: #E8F0FE;\n",
              "      --fill-color: #1967D2;\n",
              "      --hover-bg-color: #E2EBFA;\n",
              "      --hover-fill-color: #174EA6;\n",
              "      --disabled-fill-color: #AAA;\n",
              "      --disabled-bg-color: #DDD;\n",
              "  }\n",
              "\n",
              "  [theme=dark] .colab-df-quickchart {\n",
              "      --bg-color: #3B4455;\n",
              "      --fill-color: #D2E3FC;\n",
              "      --hover-bg-color: #434B5C;\n",
              "      --hover-fill-color: #FFFFFF;\n",
              "      --disabled-bg-color: #3B4455;\n",
              "      --disabled-fill-color: #666;\n",
              "  }\n",
              "\n",
              "  .colab-df-quickchart {\n",
              "    background-color: var(--bg-color);\n",
              "    border: none;\n",
              "    border-radius: 50%;\n",
              "    cursor: pointer;\n",
              "    display: none;\n",
              "    fill: var(--fill-color);\n",
              "    height: 32px;\n",
              "    padding: 0;\n",
              "    width: 32px;\n",
              "  }\n",
              "\n",
              "  .colab-df-quickchart:hover {\n",
              "    background-color: var(--hover-bg-color);\n",
              "    box-shadow: 0 1px 2px rgba(60, 64, 67, 0.3), 0 1px 3px 1px rgba(60, 64, 67, 0.15);\n",
              "    fill: var(--button-hover-fill-color);\n",
              "  }\n",
              "\n",
              "  .colab-df-quickchart-complete:disabled,\n",
              "  .colab-df-quickchart-complete:disabled:hover {\n",
              "    background-color: var(--disabled-bg-color);\n",
              "    fill: var(--disabled-fill-color);\n",
              "    box-shadow: none;\n",
              "  }\n",
              "\n",
              "  .colab-df-spinner {\n",
              "    border: 2px solid var(--fill-color);\n",
              "    border-color: transparent;\n",
              "    border-bottom-color: var(--fill-color);\n",
              "    animation:\n",
              "      spin 1s steps(1) infinite;\n",
              "  }\n",
              "\n",
              "  @keyframes spin {\n",
              "    0% {\n",
              "      border-color: transparent;\n",
              "      border-bottom-color: var(--fill-color);\n",
              "      border-left-color: var(--fill-color);\n",
              "    }\n",
              "    20% {\n",
              "      border-color: transparent;\n",
              "      border-left-color: var(--fill-color);\n",
              "      border-top-color: var(--fill-color);\n",
              "    }\n",
              "    30% {\n",
              "      border-color: transparent;\n",
              "      border-left-color: var(--fill-color);\n",
              "      border-top-color: var(--fill-color);\n",
              "      border-right-color: var(--fill-color);\n",
              "    }\n",
              "    40% {\n",
              "      border-color: transparent;\n",
              "      border-right-color: var(--fill-color);\n",
              "      border-top-color: var(--fill-color);\n",
              "    }\n",
              "    60% {\n",
              "      border-color: transparent;\n",
              "      border-right-color: var(--fill-color);\n",
              "    }\n",
              "    80% {\n",
              "      border-color: transparent;\n",
              "      border-right-color: var(--fill-color);\n",
              "      border-bottom-color: var(--fill-color);\n",
              "    }\n",
              "    90% {\n",
              "      border-color: transparent;\n",
              "      border-bottom-color: var(--fill-color);\n",
              "    }\n",
              "  }\n",
              "</style>\n",
              "\n",
              "  <script>\n",
              "    async function quickchart(key) {\n",
              "      const quickchartButtonEl =\n",
              "        document.querySelector('#' + key + ' button');\n",
              "      quickchartButtonEl.disabled = true;  // To prevent multiple clicks.\n",
              "      quickchartButtonEl.classList.add('colab-df-spinner');\n",
              "      try {\n",
              "        const charts = await google.colab.kernel.invokeFunction(\n",
              "            'suggestCharts', [key], {});\n",
              "      } catch (error) {\n",
              "        console.error('Error during call to suggestCharts:', error);\n",
              "      }\n",
              "      quickchartButtonEl.classList.remove('colab-df-spinner');\n",
              "      quickchartButtonEl.classList.add('colab-df-quickchart-complete');\n",
              "    }\n",
              "    (() => {\n",
              "      let quickchartButtonEl =\n",
              "        document.querySelector('#df-0b52eb3d-4ece-4b44-96e1-3841ca11ee35 button');\n",
              "      quickchartButtonEl.style.display =\n",
              "        google.colab.kernel.accessAllowed ? 'block' : 'none';\n",
              "    })();\n",
              "  </script>\n",
              "</div>\n",
              "\n",
              "    </div>\n",
              "  </div>\n"
            ],
            "application/vnd.google.colaboratory.intrinsic+json": {
              "type": "dataframe",
              "summary": "{\n  \"name\": \"df\",\n  \"rows\": 20,\n  \"fields\": [\n    {\n      \"column\": \"count\",\n      \"properties\": {\n        \"dtype\": \"date\",\n        \"min\": \"3333\",\n        \"max\": \"3333\",\n        \"num_unique_values\": 1,\n        \"samples\": [\n          \"3333\"\n        ],\n        \"semantic_type\": \"\",\n        \"description\": \"\"\n      }\n    },\n    {\n      \"column\": \"unique\",\n      \"properties\": {\n        \"dtype\": \"date\",\n        \"min\": 2,\n        \"max\": 51,\n        \"num_unique_values\": 2,\n        \"samples\": [\n          2\n        ],\n        \"semantic_type\": \"\",\n        \"description\": \"\"\n      }\n    },\n    {\n      \"column\": \"top\",\n      \"properties\": {\n        \"dtype\": \"category\",\n        \"num_unique_values\": 3,\n        \"samples\": [\n          \"WV\"\n        ],\n        \"semantic_type\": \"\",\n        \"description\": \"\"\n      }\n    },\n    {\n      \"column\": \"freq\",\n      \"properties\": {\n        \"dtype\": \"date\",\n        \"min\": \"106\",\n        \"max\": \"3010\",\n        \"num_unique_values\": 4,\n        \"samples\": [\n          \"3010\"\n        ],\n        \"semantic_type\": \"\",\n        \"description\": \"\"\n      }\n    },\n    {\n      \"column\": \"mean\",\n      \"properties\": {\n        \"dtype\": \"date\",\n        \"min\": 1.5628562856285628,\n        \"max\": 437.18241824182417,\n        \"num_unique_values\": 16,\n        \"samples\": [\n          101.06480648064806\n        ],\n        \"semantic_type\": \"\",\n        \"description\": \"\"\n      }\n    },\n    {\n      \"column\": \"std\",\n      \"properties\": {\n        \"dtype\": \"date\",\n        \"min\": 0.753772612663046,\n        \"max\": 54.46738920237137,\n        \"num_unique_values\": 16,\n        \"samples\": [\n          39.822105928595604\n        ],\n        \"semantic_type\": \"\",\n        \"description\": \"\"\n      }\n    },\n    {\n      \"column\": \"min\",\n      \"properties\": {\n        \"dtype\": \"date\",\n        \"min\": 0.0,\n        \"max\": 408.0,\n        \"num_unique_values\": 6,\n        \"samples\": [\n          1.0\n        ],\n        \"semantic_type\": \"\",\n        \"description\": \"\"\n      }\n    },\n    {\n      \"column\": \"25%\",\n      \"properties\": {\n        \"dtype\": \"date\",\n        \"min\": 0.0,\n        \"max\": 408.0,\n        \"num_unique_values\": 14,\n        \"samples\": [\n          7.52\n        ],\n        \"semantic_type\": \"\",\n        \"description\": \"\"\n      }\n    },\n    {\n      \"column\": \"50%\",\n      \"properties\": {\n        \"dtype\": \"date\",\n        \"min\": 0.0,\n        \"max\": 415.0,\n        \"num_unique_values\": 14,\n        \"samples\": [\n          9.05\n        ],\n        \"semantic_type\": \"\",\n        \"description\": \"\"\n      }\n    },\n    {\n      \"column\": \"75%\",\n      \"properties\": {\n        \"dtype\": \"date\",\n        \"min\": 2.0,\n        \"max\": 510.0,\n        \"num_unique_values\": 13,\n        \"samples\": [\n          3.27\n        ],\n        \"semantic_type\": \"\",\n        \"description\": \"\"\n      }\n    },\n    {\n      \"column\": \"max\",\n      \"properties\": {\n        \"dtype\": \"date\",\n        \"min\": 5.4,\n        \"max\": 510.0,\n        \"num_unique_values\": 15,\n        \"samples\": [\n          395.0\n        ],\n        \"semantic_type\": \"\",\n        \"description\": \"\"\n      }\n    }\n  ]\n}"
            }
          },
          "metadata": {},
          "execution_count": 11
        }
      ]
    },
    {
      "cell_type": "markdown",
      "source": [
        "### Variables Description"
      ],
      "metadata": {
        "id": "PBTbrJXOngz2"
      }
    },
    {
      "cell_type": "markdown",
      "source": [
        "*  **State                :**names of  the 51 states\n",
        "\n",
        "* **Account Length       :**how long account has been active\n",
        "\n",
        "* **Area Code            :**Code Number of Area , where some areas have same code as they fall in same state\n",
        "\n",
        "* **lntl Plan            :**International plan activated ( yes, no )\n",
        "\n",
        "* **VMail Plan           :**  Voice Mail plan activated ( yes ,no )\n",
        "\n",
        "* **VMail Message        :**No.of voice mail messages\n",
        "\n",
        "* **Day Mins             :**Total day minutes used\n",
        "\n",
        "* **Day calls**         :Total day calls made\n",
        "\n",
        "* **Day Charge**         :Total day charge for calls\n",
        "\n",
        "* **Eve Mins**          :Total evening minutes\n",
        "\n",
        "* **Eve Calls**          :Total evening calls\n",
        "\n",
        "* **Eve Charge**         :Total evening charge for calls\n",
        "\n",
        "* **Night Mins**         :Total night minutes\n",
        "\n",
        "* **Night Calls**        :Total night calls\n",
        "\n",
        "* **Night Charge**      :Total night charge for calls\n",
        "\n",
        "* **Intl Mins**         :Total International minutes used\n",
        "\n",
        "* **Intl Calls**         :Total International calls made\n",
        "\n",
        "* **Intl Charge**        :Total International charge for calls\n",
        "\n",
        "* **CustServ calls**    :Number of customer service calls made\n",
        "\n",
        "* **Churn**             :Customer churn (Target Variable True=1, False=0)"
      ],
      "metadata": {
        "id": "aJV4KIxSnxay"
      }
    },
    {
      "cell_type": "markdown",
      "source": [
        "### Check Unique Values for each variable."
      ],
      "metadata": {
        "id": "u3PMJOP6ngxN"
      }
    },
    {
      "cell_type": "code",
      "source": [
        "# Check Unique Values for each variable.\n",
        "\n",
        "''' This code iterates through each column of the dataframe and uses the unique()\n",
        "method to get the unique values in that column. It then prints out the unique values\n",
        " for each column.'''\n",
        "\n",
        "for column in df.columns:\n",
        "  unique_values = df[column].nunique()\n",
        "  print(f\"Unique values in column '{column}': {unique_values}\")\n",
        "\n",
        "\n"
      ],
      "metadata": {
        "id": "zms12Yq5n-jE",
        "colab": {
          "base_uri": "https://localhost:8080/"
        },
        "outputId": "a5d090c5-c37d-4c55-f728-8d5779b1cead"
      },
      "execution_count": 12,
      "outputs": [
        {
          "output_type": "stream",
          "name": "stdout",
          "text": [
            "Unique values in column 'State': 51\n",
            "Unique values in column 'Account length': 212\n",
            "Unique values in column 'Area code': 3\n",
            "Unique values in column 'International plan': 2\n",
            "Unique values in column 'Voice mail plan': 2\n",
            "Unique values in column 'Number vmail messages': 46\n",
            "Unique values in column 'Total day minutes': 1667\n",
            "Unique values in column 'Total day calls': 119\n",
            "Unique values in column 'Total day charge': 1667\n",
            "Unique values in column 'Total eve minutes': 1611\n",
            "Unique values in column 'Total eve calls': 123\n",
            "Unique values in column 'Total eve charge': 1440\n",
            "Unique values in column 'Total night minutes': 1591\n",
            "Unique values in column 'Total night calls': 120\n",
            "Unique values in column 'Total night charge': 933\n",
            "Unique values in column 'Total intl minutes': 162\n",
            "Unique values in column 'Total intl calls': 21\n",
            "Unique values in column 'Total intl charge': 162\n",
            "Unique values in column 'Customer service calls': 10\n",
            "Unique values in column 'Churn': 2\n"
          ]
        }
      ]
    },
    {
      "cell_type": "markdown",
      "source": [
        "## 3. ***Data Wrangling***"
      ],
      "metadata": {
        "id": "dauF4eBmngu3"
      }
    },
    {
      "cell_type": "markdown",
      "source": [
        "### Data Wrangling Code"
      ],
      "metadata": {
        "id": "bKJF3rekwFvQ"
      }
    },
    {
      "cell_type": "code",
      "source": [
        "# Write your code to make your dataset analysis ready.\n",
        "\n",
        "''' this code calculates  the count of customers who  has churn value yes and no '''\n",
        "\n",
        "df['Churn'].value_counts()\n"
      ],
      "metadata": {
        "id": "wk-9a2fpoLcV",
        "colab": {
          "base_uri": "https://localhost:8080/"
        },
        "outputId": "fd128ba2-4247-42d8-cc5c-5807024fb6d3"
      },
      "execution_count": 13,
      "outputs": [
        {
          "output_type": "execute_result",
          "data": {
            "text/plain": [
              "Churn\n",
              "False    2850\n",
              "True      483\n",
              "Name: count, dtype: int64"
            ]
          },
          "metadata": {},
          "execution_count": 13
        }
      ]
    },
    {
      "cell_type": "code",
      "source": [
        "# lets calculate the percentage of churn rate\n",
        "try:\n",
        "  percentage_of_churn_rate  = (len(df[df['Churn'] == True]) / len(df['Churn'])) * 100\n",
        "  print(f'The percent churn rate is :  {round(percentage_of_churn_rate , 2)} %')\n",
        "except Exception as e:\n",
        "    print(\"An error occurred:\", e)"
      ],
      "metadata": {
        "colab": {
          "base_uri": "https://localhost:8080/"
        },
        "id": "MNdAg3rdmMf8",
        "outputId": "ad4dd598-c484-4c75-eae7-6a27dd99ca20"
      },
      "execution_count": 14,
      "outputs": [
        {
          "output_type": "stream",
          "name": "stdout",
          "text": [
            "The percent churn rate is :  14.49 %\n"
          ]
        }
      ]
    },
    {
      "cell_type": "markdown",
      "source": [
        "** 14.5 % customers are leaving services after a certain period of time ."
      ],
      "metadata": {
        "id": "Ep-j3ApzIp-N"
      }
    },
    {
      "cell_type": "code",
      "source": [
        "# Lets find stats area wise and state wise for better understanding of churn rate .\n",
        "\n",
        "Area_wise_churn = df.groupby('Area code')['Churn'].value_counts().reset_index(name = 'count')\n",
        "\n",
        "Area_wise_churn"
      ],
      "metadata": {
        "colab": {
          "base_uri": "https://localhost:8080/",
          "height": 237
        },
        "id": "eEyIXVBqpBwq",
        "outputId": "0d7d45dc-16c4-4d78-8a3e-6fcb2ef52f35"
      },
      "execution_count": 15,
      "outputs": [
        {
          "output_type": "execute_result",
          "data": {
            "text/plain": [
              "   Area code  Churn  count\n",
              "0        408  False    716\n",
              "1        408   True    122\n",
              "2        415  False   1419\n",
              "3        415   True    236\n",
              "4        510  False    715\n",
              "5        510   True    125"
            ],
            "text/html": [
              "\n",
              "  <div id=\"df-e6a07d1b-e76b-45b1-93a7-a782da75e906\" class=\"colab-df-container\">\n",
              "    <div>\n",
              "<style scoped>\n",
              "    .dataframe tbody tr th:only-of-type {\n",
              "        vertical-align: middle;\n",
              "    }\n",
              "\n",
              "    .dataframe tbody tr th {\n",
              "        vertical-align: top;\n",
              "    }\n",
              "\n",
              "    .dataframe thead th {\n",
              "        text-align: right;\n",
              "    }\n",
              "</style>\n",
              "<table border=\"1\" class=\"dataframe\">\n",
              "  <thead>\n",
              "    <tr style=\"text-align: right;\">\n",
              "      <th></th>\n",
              "      <th>Area code</th>\n",
              "      <th>Churn</th>\n",
              "      <th>count</th>\n",
              "    </tr>\n",
              "  </thead>\n",
              "  <tbody>\n",
              "    <tr>\n",
              "      <th>0</th>\n",
              "      <td>408</td>\n",
              "      <td>False</td>\n",
              "      <td>716</td>\n",
              "    </tr>\n",
              "    <tr>\n",
              "      <th>1</th>\n",
              "      <td>408</td>\n",
              "      <td>True</td>\n",
              "      <td>122</td>\n",
              "    </tr>\n",
              "    <tr>\n",
              "      <th>2</th>\n",
              "      <td>415</td>\n",
              "      <td>False</td>\n",
              "      <td>1419</td>\n",
              "    </tr>\n",
              "    <tr>\n",
              "      <th>3</th>\n",
              "      <td>415</td>\n",
              "      <td>True</td>\n",
              "      <td>236</td>\n",
              "    </tr>\n",
              "    <tr>\n",
              "      <th>4</th>\n",
              "      <td>510</td>\n",
              "      <td>False</td>\n",
              "      <td>715</td>\n",
              "    </tr>\n",
              "    <tr>\n",
              "      <th>5</th>\n",
              "      <td>510</td>\n",
              "      <td>True</td>\n",
              "      <td>125</td>\n",
              "    </tr>\n",
              "  </tbody>\n",
              "</table>\n",
              "</div>\n",
              "    <div class=\"colab-df-buttons\">\n",
              "\n",
              "  <div class=\"colab-df-container\">\n",
              "    <button class=\"colab-df-convert\" onclick=\"convertToInteractive('df-e6a07d1b-e76b-45b1-93a7-a782da75e906')\"\n",
              "            title=\"Convert this dataframe to an interactive table.\"\n",
              "            style=\"display:none;\">\n",
              "\n",
              "  <svg xmlns=\"http://www.w3.org/2000/svg\" height=\"24px\" viewBox=\"0 -960 960 960\">\n",
              "    <path d=\"M120-120v-720h720v720H120Zm60-500h600v-160H180v160Zm220 220h160v-160H400v160Zm0 220h160v-160H400v160ZM180-400h160v-160H180v160Zm440 0h160v-160H620v160ZM180-180h160v-160H180v160Zm440 0h160v-160H620v160Z\"/>\n",
              "  </svg>\n",
              "    </button>\n",
              "\n",
              "  <style>\n",
              "    .colab-df-container {\n",
              "      display:flex;\n",
              "      gap: 12px;\n",
              "    }\n",
              "\n",
              "    .colab-df-convert {\n",
              "      background-color: #E8F0FE;\n",
              "      border: none;\n",
              "      border-radius: 50%;\n",
              "      cursor: pointer;\n",
              "      display: none;\n",
              "      fill: #1967D2;\n",
              "      height: 32px;\n",
              "      padding: 0 0 0 0;\n",
              "      width: 32px;\n",
              "    }\n",
              "\n",
              "    .colab-df-convert:hover {\n",
              "      background-color: #E2EBFA;\n",
              "      box-shadow: 0px 1px 2px rgba(60, 64, 67, 0.3), 0px 1px 3px 1px rgba(60, 64, 67, 0.15);\n",
              "      fill: #174EA6;\n",
              "    }\n",
              "\n",
              "    .colab-df-buttons div {\n",
              "      margin-bottom: 4px;\n",
              "    }\n",
              "\n",
              "    [theme=dark] .colab-df-convert {\n",
              "      background-color: #3B4455;\n",
              "      fill: #D2E3FC;\n",
              "    }\n",
              "\n",
              "    [theme=dark] .colab-df-convert:hover {\n",
              "      background-color: #434B5C;\n",
              "      box-shadow: 0px 1px 3px 1px rgba(0, 0, 0, 0.15);\n",
              "      filter: drop-shadow(0px 1px 2px rgba(0, 0, 0, 0.3));\n",
              "      fill: #FFFFFF;\n",
              "    }\n",
              "  </style>\n",
              "\n",
              "    <script>\n",
              "      const buttonEl =\n",
              "        document.querySelector('#df-e6a07d1b-e76b-45b1-93a7-a782da75e906 button.colab-df-convert');\n",
              "      buttonEl.style.display =\n",
              "        google.colab.kernel.accessAllowed ? 'block' : 'none';\n",
              "\n",
              "      async function convertToInteractive(key) {\n",
              "        const element = document.querySelector('#df-e6a07d1b-e76b-45b1-93a7-a782da75e906');\n",
              "        const dataTable =\n",
              "          await google.colab.kernel.invokeFunction('convertToInteractive',\n",
              "                                                    [key], {});\n",
              "        if (!dataTable) return;\n",
              "\n",
              "        const docLinkHtml = 'Like what you see? Visit the ' +\n",
              "          '<a target=\"_blank\" href=https://colab.research.google.com/notebooks/data_table.ipynb>data table notebook</a>'\n",
              "          + ' to learn more about interactive tables.';\n",
              "        element.innerHTML = '';\n",
              "        dataTable['output_type'] = 'display_data';\n",
              "        await google.colab.output.renderOutput(dataTable, element);\n",
              "        const docLink = document.createElement('div');\n",
              "        docLink.innerHTML = docLinkHtml;\n",
              "        element.appendChild(docLink);\n",
              "      }\n",
              "    </script>\n",
              "  </div>\n",
              "\n",
              "\n",
              "<div id=\"df-90faa129-f5ac-40e3-9742-736679ba1ac6\">\n",
              "  <button class=\"colab-df-quickchart\" onclick=\"quickchart('df-90faa129-f5ac-40e3-9742-736679ba1ac6')\"\n",
              "            title=\"Suggest charts\"\n",
              "            style=\"display:none;\">\n",
              "\n",
              "<svg xmlns=\"http://www.w3.org/2000/svg\" height=\"24px\"viewBox=\"0 0 24 24\"\n",
              "     width=\"24px\">\n",
              "    <g>\n",
              "        <path d=\"M19 3H5c-1.1 0-2 .9-2 2v14c0 1.1.9 2 2 2h14c1.1 0 2-.9 2-2V5c0-1.1-.9-2-2-2zM9 17H7v-7h2v7zm4 0h-2V7h2v10zm4 0h-2v-4h2v4z\"/>\n",
              "    </g>\n",
              "</svg>\n",
              "  </button>\n",
              "\n",
              "<style>\n",
              "  .colab-df-quickchart {\n",
              "      --bg-color: #E8F0FE;\n",
              "      --fill-color: #1967D2;\n",
              "      --hover-bg-color: #E2EBFA;\n",
              "      --hover-fill-color: #174EA6;\n",
              "      --disabled-fill-color: #AAA;\n",
              "      --disabled-bg-color: #DDD;\n",
              "  }\n",
              "\n",
              "  [theme=dark] .colab-df-quickchart {\n",
              "      --bg-color: #3B4455;\n",
              "      --fill-color: #D2E3FC;\n",
              "      --hover-bg-color: #434B5C;\n",
              "      --hover-fill-color: #FFFFFF;\n",
              "      --disabled-bg-color: #3B4455;\n",
              "      --disabled-fill-color: #666;\n",
              "  }\n",
              "\n",
              "  .colab-df-quickchart {\n",
              "    background-color: var(--bg-color);\n",
              "    border: none;\n",
              "    border-radius: 50%;\n",
              "    cursor: pointer;\n",
              "    display: none;\n",
              "    fill: var(--fill-color);\n",
              "    height: 32px;\n",
              "    padding: 0;\n",
              "    width: 32px;\n",
              "  }\n",
              "\n",
              "  .colab-df-quickchart:hover {\n",
              "    background-color: var(--hover-bg-color);\n",
              "    box-shadow: 0 1px 2px rgba(60, 64, 67, 0.3), 0 1px 3px 1px rgba(60, 64, 67, 0.15);\n",
              "    fill: var(--button-hover-fill-color);\n",
              "  }\n",
              "\n",
              "  .colab-df-quickchart-complete:disabled,\n",
              "  .colab-df-quickchart-complete:disabled:hover {\n",
              "    background-color: var(--disabled-bg-color);\n",
              "    fill: var(--disabled-fill-color);\n",
              "    box-shadow: none;\n",
              "  }\n",
              "\n",
              "  .colab-df-spinner {\n",
              "    border: 2px solid var(--fill-color);\n",
              "    border-color: transparent;\n",
              "    border-bottom-color: var(--fill-color);\n",
              "    animation:\n",
              "      spin 1s steps(1) infinite;\n",
              "  }\n",
              "\n",
              "  @keyframes spin {\n",
              "    0% {\n",
              "      border-color: transparent;\n",
              "      border-bottom-color: var(--fill-color);\n",
              "      border-left-color: var(--fill-color);\n",
              "    }\n",
              "    20% {\n",
              "      border-color: transparent;\n",
              "      border-left-color: var(--fill-color);\n",
              "      border-top-color: var(--fill-color);\n",
              "    }\n",
              "    30% {\n",
              "      border-color: transparent;\n",
              "      border-left-color: var(--fill-color);\n",
              "      border-top-color: var(--fill-color);\n",
              "      border-right-color: var(--fill-color);\n",
              "    }\n",
              "    40% {\n",
              "      border-color: transparent;\n",
              "      border-right-color: var(--fill-color);\n",
              "      border-top-color: var(--fill-color);\n",
              "    }\n",
              "    60% {\n",
              "      border-color: transparent;\n",
              "      border-right-color: var(--fill-color);\n",
              "    }\n",
              "    80% {\n",
              "      border-color: transparent;\n",
              "      border-right-color: var(--fill-color);\n",
              "      border-bottom-color: var(--fill-color);\n",
              "    }\n",
              "    90% {\n",
              "      border-color: transparent;\n",
              "      border-bottom-color: var(--fill-color);\n",
              "    }\n",
              "  }\n",
              "</style>\n",
              "\n",
              "  <script>\n",
              "    async function quickchart(key) {\n",
              "      const quickchartButtonEl =\n",
              "        document.querySelector('#' + key + ' button');\n",
              "      quickchartButtonEl.disabled = true;  // To prevent multiple clicks.\n",
              "      quickchartButtonEl.classList.add('colab-df-spinner');\n",
              "      try {\n",
              "        const charts = await google.colab.kernel.invokeFunction(\n",
              "            'suggestCharts', [key], {});\n",
              "      } catch (error) {\n",
              "        console.error('Error during call to suggestCharts:', error);\n",
              "      }\n",
              "      quickchartButtonEl.classList.remove('colab-df-spinner');\n",
              "      quickchartButtonEl.classList.add('colab-df-quickchart-complete');\n",
              "    }\n",
              "    (() => {\n",
              "      let quickchartButtonEl =\n",
              "        document.querySelector('#df-90faa129-f5ac-40e3-9742-736679ba1ac6 button');\n",
              "      quickchartButtonEl.style.display =\n",
              "        google.colab.kernel.accessAllowed ? 'block' : 'none';\n",
              "    })();\n",
              "  </script>\n",
              "</div>\n",
              "\n",
              "  <div id=\"id_69dc1ad3-da72-409c-b815-ac83287086d5\">\n",
              "    <style>\n",
              "      .colab-df-generate {\n",
              "        background-color: #E8F0FE;\n",
              "        border: none;\n",
              "        border-radius: 50%;\n",
              "        cursor: pointer;\n",
              "        display: none;\n",
              "        fill: #1967D2;\n",
              "        height: 32px;\n",
              "        padding: 0 0 0 0;\n",
              "        width: 32px;\n",
              "      }\n",
              "\n",
              "      .colab-df-generate:hover {\n",
              "        background-color: #E2EBFA;\n",
              "        box-shadow: 0px 1px 2px rgba(60, 64, 67, 0.3), 0px 1px 3px 1px rgba(60, 64, 67, 0.15);\n",
              "        fill: #174EA6;\n",
              "      }\n",
              "\n",
              "      [theme=dark] .colab-df-generate {\n",
              "        background-color: #3B4455;\n",
              "        fill: #D2E3FC;\n",
              "      }\n",
              "\n",
              "      [theme=dark] .colab-df-generate:hover {\n",
              "        background-color: #434B5C;\n",
              "        box-shadow: 0px 1px 3px 1px rgba(0, 0, 0, 0.15);\n",
              "        filter: drop-shadow(0px 1px 2px rgba(0, 0, 0, 0.3));\n",
              "        fill: #FFFFFF;\n",
              "      }\n",
              "    </style>\n",
              "    <button class=\"colab-df-generate\" onclick=\"generateWithVariable('Area_wise_churn')\"\n",
              "            title=\"Generate code using this dataframe.\"\n",
              "            style=\"display:none;\">\n",
              "\n",
              "  <svg xmlns=\"http://www.w3.org/2000/svg\" height=\"24px\"viewBox=\"0 0 24 24\"\n",
              "       width=\"24px\">\n",
              "    <path d=\"M7,19H8.4L18.45,9,17,7.55,7,17.6ZM5,21V16.75L18.45,3.32a2,2,0,0,1,2.83,0l1.4,1.43a1.91,1.91,0,0,1,.58,1.4,1.91,1.91,0,0,1-.58,1.4L9.25,21ZM18.45,9,17,7.55Zm-12,3A5.31,5.31,0,0,0,4.9,8.1,5.31,5.31,0,0,0,1,6.5,5.31,5.31,0,0,0,4.9,4.9,5.31,5.31,0,0,0,6.5,1,5.31,5.31,0,0,0,8.1,4.9,5.31,5.31,0,0,0,12,6.5,5.46,5.46,0,0,0,6.5,12Z\"/>\n",
              "  </svg>\n",
              "    </button>\n",
              "    <script>\n",
              "      (() => {\n",
              "      const buttonEl =\n",
              "        document.querySelector('#id_69dc1ad3-da72-409c-b815-ac83287086d5 button.colab-df-generate');\n",
              "      buttonEl.style.display =\n",
              "        google.colab.kernel.accessAllowed ? 'block' : 'none';\n",
              "\n",
              "      buttonEl.onclick = () => {\n",
              "        google.colab.notebook.generateWithVariable('Area_wise_churn');\n",
              "      }\n",
              "      })();\n",
              "    </script>\n",
              "  </div>\n",
              "\n",
              "    </div>\n",
              "  </div>\n"
            ],
            "application/vnd.google.colaboratory.intrinsic+json": {
              "type": "dataframe",
              "variable_name": "Area_wise_churn",
              "summary": "{\n  \"name\": \"Area_wise_churn\",\n  \"rows\": 6,\n  \"fields\": [\n    {\n      \"column\": \"Area code\",\n      \"properties\": {\n        \"dtype\": \"number\",\n        \"std\": 50,\n        \"min\": 408,\n        \"max\": 510,\n        \"num_unique_values\": 3,\n        \"samples\": [\n          408,\n          415,\n          510\n        ],\n        \"semantic_type\": \"\",\n        \"description\": \"\"\n      }\n    },\n    {\n      \"column\": \"Churn\",\n      \"properties\": {\n        \"dtype\": \"boolean\",\n        \"num_unique_values\": 2,\n        \"samples\": [\n          true,\n          false\n        ],\n        \"semantic_type\": \"\",\n        \"description\": \"\"\n      }\n    },\n    {\n      \"column\": \"count\",\n      \"properties\": {\n        \"dtype\": \"number\",\n        \"std\": 504,\n        \"min\": 122,\n        \"max\": 1419,\n        \"num_unique_values\": 6,\n        \"samples\": [\n          716,\n          122\n        ],\n        \"semantic_type\": \"\",\n        \"description\": \"\"\n      }\n    }\n  ]\n}"
            }
          },
          "metadata": {},
          "execution_count": 15
        }
      ]
    },
    {
      "cell_type": "code",
      "source": [
        "# area code with max no of churn customers\n",
        "\n",
        "max_churn = Area_wise_churn[Area_wise_churn['Churn']==True]['count'].max()\n",
        "\n",
        "max_churn_Area = Area_wise_churn[Area_wise_churn['count']==max_churn]['Area code']\n",
        "\n",
        "print(f'Max churn is in the area with area code {max_churn_Area}, with a count of {max_churn}')\n",
        "\n",
        "\n",
        "\n",
        "\n",
        "\n"
      ],
      "metadata": {
        "colab": {
          "base_uri": "https://localhost:8080/"
        },
        "id": "foHNV7EhOczm",
        "outputId": "310301b7-0225-4b4b-eb64-24244324c2b9"
      },
      "execution_count": 16,
      "outputs": [
        {
          "output_type": "stream",
          "name": "stdout",
          "text": [
            "Max churn is in the area with area code 3    415\n",
            "Name: Area code, dtype: int64, with a count of 236\n"
          ]
        }
      ]
    },
    {
      "cell_type": "code",
      "source": [
        "# Let's find area and state wise  international plan and voicemail plan\n",
        "\n",
        "statewise_int_plans = df.groupby('State')['International plan'].value_counts().reset_index(name = 'count')\n",
        "print(statewise_int_plans)\n",
        "\n",
        "statewise_voice_mail_plans = df.groupby('State')['Voice mail plan'].value_counts().reset_index(name ='count')\n",
        "print(statewise_voice_mail_plans)\n",
        "\n"
      ],
      "metadata": {
        "colab": {
          "base_uri": "https://localhost:8080/"
        },
        "id": "KUmDU3qQyj1E",
        "outputId": "8be7a972-e5e5-4067-fa2f-4af88bf3e88e"
      },
      "execution_count": 17,
      "outputs": [
        {
          "output_type": "stream",
          "name": "stdout",
          "text": [
            "    State International plan  count\n",
            "0      AK                 No     48\n",
            "1      AK                Yes      4\n",
            "2      AL                 No     72\n",
            "3      AL                Yes      8\n",
            "4      AR                 No     47\n",
            "..    ...                ...    ...\n",
            "96     WI                Yes      8\n",
            "97     WV                 No     99\n",
            "98     WV                Yes      7\n",
            "99     WY                 No     67\n",
            "100    WY                Yes     10\n",
            "\n",
            "[101 rows x 3 columns]\n",
            "    State Voice mail plan  count\n",
            "0      AK              No     36\n",
            "1      AK             Yes     16\n",
            "2      AL              No     59\n",
            "3      AL             Yes     21\n",
            "4      AR              No     41\n",
            "..    ...             ...    ...\n",
            "97     WI             Yes     23\n",
            "98     WV              No     77\n",
            "99     WV             Yes     29\n",
            "100    WY              No     59\n",
            "101    WY             Yes     18\n",
            "\n",
            "[102 rows x 3 columns]\n"
          ]
        }
      ]
    },
    {
      "cell_type": "code",
      "source": [
        "# Creating dataframes with churn and unchurn customers\n",
        "\n",
        "cust_churn_true = df[df['Churn']== True].reset_index()\n",
        "\n",
        "cust_churn_false = df[df['Churn']== False].reset_index()\n",
        "\n",
        "# viewing datframes\n",
        "\n",
        "cust_churn_true.head()"
      ],
      "metadata": {
        "colab": {
          "base_uri": "https://localhost:8080/",
          "height": 290
        },
        "id": "ahUM4WEzJhvt",
        "outputId": "db5b616c-b3df-425f-90d2-1b1673e599fc"
      },
      "execution_count": 18,
      "outputs": [
        {
          "output_type": "execute_result",
          "data": {
            "text/plain": [
              "   index State  Account length  Area code International plan Voice mail plan  \\\n",
              "0     10    IN              65        415                 No              No   \n",
              "1     15    NY             161        415                 No              No   \n",
              "2     21    CO              77        408                 No              No   \n",
              "3     33    AZ              12        408                 No              No   \n",
              "4     41    MD             135        408                Yes             Yes   \n",
              "\n",
              "   Number vmail messages  Total day minutes  Total day calls  \\\n",
              "0                      0              129.1              137   \n",
              "1                      0              332.9               67   \n",
              "2                      0               62.4               89   \n",
              "3                      0              249.6              118   \n",
              "4                     41              173.1               85   \n",
              "\n",
              "   Total day charge  ...  Total eve calls  Total eve charge  \\\n",
              "0             21.95  ...               83             19.42   \n",
              "1             56.59  ...               97             27.01   \n",
              "2             10.61  ...              121             14.44   \n",
              "3             42.43  ...              119             21.45   \n",
              "4             29.43  ...              107             17.33   \n",
              "\n",
              "   Total night minutes  Total night calls  Total night charge  \\\n",
              "0                208.8                111                9.40   \n",
              "1                160.6                128                7.23   \n",
              "2                209.6                 64                9.43   \n",
              "3                280.2                 90               12.61   \n",
              "4                122.2                 78                5.50   \n",
              "\n",
              "   Total intl minutes  Total intl calls  Total intl charge  \\\n",
              "0                12.7                 6               3.43   \n",
              "1                 5.4                 9               1.46   \n",
              "2                 5.7                 6               1.54   \n",
              "3                11.8                 3               3.19   \n",
              "4                14.6                15               3.94   \n",
              "\n",
              "   Customer service calls  Churn  \n",
              "0                       4   True  \n",
              "1                       4   True  \n",
              "2                       5   True  \n",
              "3                       1   True  \n",
              "4                       0   True  \n",
              "\n",
              "[5 rows x 21 columns]"
            ],
            "text/html": [
              "\n",
              "  <div id=\"df-cbf08005-af60-464a-96bd-26e8188cb83d\" class=\"colab-df-container\">\n",
              "    <div>\n",
              "<style scoped>\n",
              "    .dataframe tbody tr th:only-of-type {\n",
              "        vertical-align: middle;\n",
              "    }\n",
              "\n",
              "    .dataframe tbody tr th {\n",
              "        vertical-align: top;\n",
              "    }\n",
              "\n",
              "    .dataframe thead th {\n",
              "        text-align: right;\n",
              "    }\n",
              "</style>\n",
              "<table border=\"1\" class=\"dataframe\">\n",
              "  <thead>\n",
              "    <tr style=\"text-align: right;\">\n",
              "      <th></th>\n",
              "      <th>index</th>\n",
              "      <th>State</th>\n",
              "      <th>Account length</th>\n",
              "      <th>Area code</th>\n",
              "      <th>International plan</th>\n",
              "      <th>Voice mail plan</th>\n",
              "      <th>Number vmail messages</th>\n",
              "      <th>Total day minutes</th>\n",
              "      <th>Total day calls</th>\n",
              "      <th>Total day charge</th>\n",
              "      <th>...</th>\n",
              "      <th>Total eve calls</th>\n",
              "      <th>Total eve charge</th>\n",
              "      <th>Total night minutes</th>\n",
              "      <th>Total night calls</th>\n",
              "      <th>Total night charge</th>\n",
              "      <th>Total intl minutes</th>\n",
              "      <th>Total intl calls</th>\n",
              "      <th>Total intl charge</th>\n",
              "      <th>Customer service calls</th>\n",
              "      <th>Churn</th>\n",
              "    </tr>\n",
              "  </thead>\n",
              "  <tbody>\n",
              "    <tr>\n",
              "      <th>0</th>\n",
              "      <td>10</td>\n",
              "      <td>IN</td>\n",
              "      <td>65</td>\n",
              "      <td>415</td>\n",
              "      <td>No</td>\n",
              "      <td>No</td>\n",
              "      <td>0</td>\n",
              "      <td>129.1</td>\n",
              "      <td>137</td>\n",
              "      <td>21.95</td>\n",
              "      <td>...</td>\n",
              "      <td>83</td>\n",
              "      <td>19.42</td>\n",
              "      <td>208.8</td>\n",
              "      <td>111</td>\n",
              "      <td>9.40</td>\n",
              "      <td>12.7</td>\n",
              "      <td>6</td>\n",
              "      <td>3.43</td>\n",
              "      <td>4</td>\n",
              "      <td>True</td>\n",
              "    </tr>\n",
              "    <tr>\n",
              "      <th>1</th>\n",
              "      <td>15</td>\n",
              "      <td>NY</td>\n",
              "      <td>161</td>\n",
              "      <td>415</td>\n",
              "      <td>No</td>\n",
              "      <td>No</td>\n",
              "      <td>0</td>\n",
              "      <td>332.9</td>\n",
              "      <td>67</td>\n",
              "      <td>56.59</td>\n",
              "      <td>...</td>\n",
              "      <td>97</td>\n",
              "      <td>27.01</td>\n",
              "      <td>160.6</td>\n",
              "      <td>128</td>\n",
              "      <td>7.23</td>\n",
              "      <td>5.4</td>\n",
              "      <td>9</td>\n",
              "      <td>1.46</td>\n",
              "      <td>4</td>\n",
              "      <td>True</td>\n",
              "    </tr>\n",
              "    <tr>\n",
              "      <th>2</th>\n",
              "      <td>21</td>\n",
              "      <td>CO</td>\n",
              "      <td>77</td>\n",
              "      <td>408</td>\n",
              "      <td>No</td>\n",
              "      <td>No</td>\n",
              "      <td>0</td>\n",
              "      <td>62.4</td>\n",
              "      <td>89</td>\n",
              "      <td>10.61</td>\n",
              "      <td>...</td>\n",
              "      <td>121</td>\n",
              "      <td>14.44</td>\n",
              "      <td>209.6</td>\n",
              "      <td>64</td>\n",
              "      <td>9.43</td>\n",
              "      <td>5.7</td>\n",
              "      <td>6</td>\n",
              "      <td>1.54</td>\n",
              "      <td>5</td>\n",
              "      <td>True</td>\n",
              "    </tr>\n",
              "    <tr>\n",
              "      <th>3</th>\n",
              "      <td>33</td>\n",
              "      <td>AZ</td>\n",
              "      <td>12</td>\n",
              "      <td>408</td>\n",
              "      <td>No</td>\n",
              "      <td>No</td>\n",
              "      <td>0</td>\n",
              "      <td>249.6</td>\n",
              "      <td>118</td>\n",
              "      <td>42.43</td>\n",
              "      <td>...</td>\n",
              "      <td>119</td>\n",
              "      <td>21.45</td>\n",
              "      <td>280.2</td>\n",
              "      <td>90</td>\n",
              "      <td>12.61</td>\n",
              "      <td>11.8</td>\n",
              "      <td>3</td>\n",
              "      <td>3.19</td>\n",
              "      <td>1</td>\n",
              "      <td>True</td>\n",
              "    </tr>\n",
              "    <tr>\n",
              "      <th>4</th>\n",
              "      <td>41</td>\n",
              "      <td>MD</td>\n",
              "      <td>135</td>\n",
              "      <td>408</td>\n",
              "      <td>Yes</td>\n",
              "      <td>Yes</td>\n",
              "      <td>41</td>\n",
              "      <td>173.1</td>\n",
              "      <td>85</td>\n",
              "      <td>29.43</td>\n",
              "      <td>...</td>\n",
              "      <td>107</td>\n",
              "      <td>17.33</td>\n",
              "      <td>122.2</td>\n",
              "      <td>78</td>\n",
              "      <td>5.50</td>\n",
              "      <td>14.6</td>\n",
              "      <td>15</td>\n",
              "      <td>3.94</td>\n",
              "      <td>0</td>\n",
              "      <td>True</td>\n",
              "    </tr>\n",
              "  </tbody>\n",
              "</table>\n",
              "<p>5 rows × 21 columns</p>\n",
              "</div>\n",
              "    <div class=\"colab-df-buttons\">\n",
              "\n",
              "  <div class=\"colab-df-container\">\n",
              "    <button class=\"colab-df-convert\" onclick=\"convertToInteractive('df-cbf08005-af60-464a-96bd-26e8188cb83d')\"\n",
              "            title=\"Convert this dataframe to an interactive table.\"\n",
              "            style=\"display:none;\">\n",
              "\n",
              "  <svg xmlns=\"http://www.w3.org/2000/svg\" height=\"24px\" viewBox=\"0 -960 960 960\">\n",
              "    <path d=\"M120-120v-720h720v720H120Zm60-500h600v-160H180v160Zm220 220h160v-160H400v160Zm0 220h160v-160H400v160ZM180-400h160v-160H180v160Zm440 0h160v-160H620v160ZM180-180h160v-160H180v160Zm440 0h160v-160H620v160Z\"/>\n",
              "  </svg>\n",
              "    </button>\n",
              "\n",
              "  <style>\n",
              "    .colab-df-container {\n",
              "      display:flex;\n",
              "      gap: 12px;\n",
              "    }\n",
              "\n",
              "    .colab-df-convert {\n",
              "      background-color: #E8F0FE;\n",
              "      border: none;\n",
              "      border-radius: 50%;\n",
              "      cursor: pointer;\n",
              "      display: none;\n",
              "      fill: #1967D2;\n",
              "      height: 32px;\n",
              "      padding: 0 0 0 0;\n",
              "      width: 32px;\n",
              "    }\n",
              "\n",
              "    .colab-df-convert:hover {\n",
              "      background-color: #E2EBFA;\n",
              "      box-shadow: 0px 1px 2px rgba(60, 64, 67, 0.3), 0px 1px 3px 1px rgba(60, 64, 67, 0.15);\n",
              "      fill: #174EA6;\n",
              "    }\n",
              "\n",
              "    .colab-df-buttons div {\n",
              "      margin-bottom: 4px;\n",
              "    }\n",
              "\n",
              "    [theme=dark] .colab-df-convert {\n",
              "      background-color: #3B4455;\n",
              "      fill: #D2E3FC;\n",
              "    }\n",
              "\n",
              "    [theme=dark] .colab-df-convert:hover {\n",
              "      background-color: #434B5C;\n",
              "      box-shadow: 0px 1px 3px 1px rgba(0, 0, 0, 0.15);\n",
              "      filter: drop-shadow(0px 1px 2px rgba(0, 0, 0, 0.3));\n",
              "      fill: #FFFFFF;\n",
              "    }\n",
              "  </style>\n",
              "\n",
              "    <script>\n",
              "      const buttonEl =\n",
              "        document.querySelector('#df-cbf08005-af60-464a-96bd-26e8188cb83d button.colab-df-convert');\n",
              "      buttonEl.style.display =\n",
              "        google.colab.kernel.accessAllowed ? 'block' : 'none';\n",
              "\n",
              "      async function convertToInteractive(key) {\n",
              "        const element = document.querySelector('#df-cbf08005-af60-464a-96bd-26e8188cb83d');\n",
              "        const dataTable =\n",
              "          await google.colab.kernel.invokeFunction('convertToInteractive',\n",
              "                                                    [key], {});\n",
              "        if (!dataTable) return;\n",
              "\n",
              "        const docLinkHtml = 'Like what you see? Visit the ' +\n",
              "          '<a target=\"_blank\" href=https://colab.research.google.com/notebooks/data_table.ipynb>data table notebook</a>'\n",
              "          + ' to learn more about interactive tables.';\n",
              "        element.innerHTML = '';\n",
              "        dataTable['output_type'] = 'display_data';\n",
              "        await google.colab.output.renderOutput(dataTable, element);\n",
              "        const docLink = document.createElement('div');\n",
              "        docLink.innerHTML = docLinkHtml;\n",
              "        element.appendChild(docLink);\n",
              "      }\n",
              "    </script>\n",
              "  </div>\n",
              "\n",
              "\n",
              "<div id=\"df-1908935a-2db5-446c-bc20-4effa9db1463\">\n",
              "  <button class=\"colab-df-quickchart\" onclick=\"quickchart('df-1908935a-2db5-446c-bc20-4effa9db1463')\"\n",
              "            title=\"Suggest charts\"\n",
              "            style=\"display:none;\">\n",
              "\n",
              "<svg xmlns=\"http://www.w3.org/2000/svg\" height=\"24px\"viewBox=\"0 0 24 24\"\n",
              "     width=\"24px\">\n",
              "    <g>\n",
              "        <path d=\"M19 3H5c-1.1 0-2 .9-2 2v14c0 1.1.9 2 2 2h14c1.1 0 2-.9 2-2V5c0-1.1-.9-2-2-2zM9 17H7v-7h2v7zm4 0h-2V7h2v10zm4 0h-2v-4h2v4z\"/>\n",
              "    </g>\n",
              "</svg>\n",
              "  </button>\n",
              "\n",
              "<style>\n",
              "  .colab-df-quickchart {\n",
              "      --bg-color: #E8F0FE;\n",
              "      --fill-color: #1967D2;\n",
              "      --hover-bg-color: #E2EBFA;\n",
              "      --hover-fill-color: #174EA6;\n",
              "      --disabled-fill-color: #AAA;\n",
              "      --disabled-bg-color: #DDD;\n",
              "  }\n",
              "\n",
              "  [theme=dark] .colab-df-quickchart {\n",
              "      --bg-color: #3B4455;\n",
              "      --fill-color: #D2E3FC;\n",
              "      --hover-bg-color: #434B5C;\n",
              "      --hover-fill-color: #FFFFFF;\n",
              "      --disabled-bg-color: #3B4455;\n",
              "      --disabled-fill-color: #666;\n",
              "  }\n",
              "\n",
              "  .colab-df-quickchart {\n",
              "    background-color: var(--bg-color);\n",
              "    border: none;\n",
              "    border-radius: 50%;\n",
              "    cursor: pointer;\n",
              "    display: none;\n",
              "    fill: var(--fill-color);\n",
              "    height: 32px;\n",
              "    padding: 0;\n",
              "    width: 32px;\n",
              "  }\n",
              "\n",
              "  .colab-df-quickchart:hover {\n",
              "    background-color: var(--hover-bg-color);\n",
              "    box-shadow: 0 1px 2px rgba(60, 64, 67, 0.3), 0 1px 3px 1px rgba(60, 64, 67, 0.15);\n",
              "    fill: var(--button-hover-fill-color);\n",
              "  }\n",
              "\n",
              "  .colab-df-quickchart-complete:disabled,\n",
              "  .colab-df-quickchart-complete:disabled:hover {\n",
              "    background-color: var(--disabled-bg-color);\n",
              "    fill: var(--disabled-fill-color);\n",
              "    box-shadow: none;\n",
              "  }\n",
              "\n",
              "  .colab-df-spinner {\n",
              "    border: 2px solid var(--fill-color);\n",
              "    border-color: transparent;\n",
              "    border-bottom-color: var(--fill-color);\n",
              "    animation:\n",
              "      spin 1s steps(1) infinite;\n",
              "  }\n",
              "\n",
              "  @keyframes spin {\n",
              "    0% {\n",
              "      border-color: transparent;\n",
              "      border-bottom-color: var(--fill-color);\n",
              "      border-left-color: var(--fill-color);\n",
              "    }\n",
              "    20% {\n",
              "      border-color: transparent;\n",
              "      border-left-color: var(--fill-color);\n",
              "      border-top-color: var(--fill-color);\n",
              "    }\n",
              "    30% {\n",
              "      border-color: transparent;\n",
              "      border-left-color: var(--fill-color);\n",
              "      border-top-color: var(--fill-color);\n",
              "      border-right-color: var(--fill-color);\n",
              "    }\n",
              "    40% {\n",
              "      border-color: transparent;\n",
              "      border-right-color: var(--fill-color);\n",
              "      border-top-color: var(--fill-color);\n",
              "    }\n",
              "    60% {\n",
              "      border-color: transparent;\n",
              "      border-right-color: var(--fill-color);\n",
              "    }\n",
              "    80% {\n",
              "      border-color: transparent;\n",
              "      border-right-color: var(--fill-color);\n",
              "      border-bottom-color: var(--fill-color);\n",
              "    }\n",
              "    90% {\n",
              "      border-color: transparent;\n",
              "      border-bottom-color: var(--fill-color);\n",
              "    }\n",
              "  }\n",
              "</style>\n",
              "\n",
              "  <script>\n",
              "    async function quickchart(key) {\n",
              "      const quickchartButtonEl =\n",
              "        document.querySelector('#' + key + ' button');\n",
              "      quickchartButtonEl.disabled = true;  // To prevent multiple clicks.\n",
              "      quickchartButtonEl.classList.add('colab-df-spinner');\n",
              "      try {\n",
              "        const charts = await google.colab.kernel.invokeFunction(\n",
              "            'suggestCharts', [key], {});\n",
              "      } catch (error) {\n",
              "        console.error('Error during call to suggestCharts:', error);\n",
              "      }\n",
              "      quickchartButtonEl.classList.remove('colab-df-spinner');\n",
              "      quickchartButtonEl.classList.add('colab-df-quickchart-complete');\n",
              "    }\n",
              "    (() => {\n",
              "      let quickchartButtonEl =\n",
              "        document.querySelector('#df-1908935a-2db5-446c-bc20-4effa9db1463 button');\n",
              "      quickchartButtonEl.style.display =\n",
              "        google.colab.kernel.accessAllowed ? 'block' : 'none';\n",
              "    })();\n",
              "  </script>\n",
              "</div>\n",
              "\n",
              "    </div>\n",
              "  </div>\n"
            ],
            "application/vnd.google.colaboratory.intrinsic+json": {
              "type": "dataframe",
              "variable_name": "cust_churn_true"
            }
          },
          "metadata": {},
          "execution_count": 18
        }
      ]
    },
    {
      "cell_type": "code",
      "source": [
        "cust_churn_true.shape"
      ],
      "metadata": {
        "colab": {
          "base_uri": "https://localhost:8080/"
        },
        "id": "NjEUJmKV_aSV",
        "outputId": "ce0b112d-915a-484b-afb1-537d81de425b"
      },
      "execution_count": 19,
      "outputs": [
        {
          "output_type": "execute_result",
          "data": {
            "text/plain": [
              "(483, 21)"
            ]
          },
          "metadata": {},
          "execution_count": 19
        }
      ]
    },
    {
      "cell_type": "code",
      "source": [
        "# now we will compare stats of  churn and  unchurn customers\n",
        "# Average account length of churn customers and unchurn customers\n",
        "\n",
        "Acoount_churn_average = cust_churn_true['Account length'].mean()\n",
        "\n",
        "Account_unchurn_average = cust_churn_false['Account length'].mean()\n",
        "\n",
        "# Print account length of churn and unchurn customers\n",
        "\n",
        "print(f'Churn customers average account length',round(Acoount_churn_average , 2))\n",
        "print(f'Unchurn customers average account length',Account_unchurn_average)"
      ],
      "metadata": {
        "colab": {
          "base_uri": "https://localhost:8080/"
        },
        "id": "YDvb3VXf_5qi",
        "outputId": "f2ab8f0e-153d-48a4-bcb4-8c58c692a059"
      },
      "execution_count": 20,
      "outputs": [
        {
          "output_type": "stream",
          "name": "stdout",
          "text": [
            "Churn customers average account length 102.66\n",
            "Unchurn customers average account length 100.79368421052632\n"
          ]
        }
      ]
    },
    {
      "cell_type": "code",
      "source": [
        "# Finding churn and unchurn customers with international and voice mail plans\n",
        "\n",
        "churn_intl_pack = cust_churn_true[cust_churn_true['International plan']=='Yes']\n",
        "\n",
        "len(churn_intl_pack)\n",
        "\n",
        "print(f'out of 483 churn customers {len(churn_intl_pack)} has international plans ')\n",
        "print(f'i.e  {round((len(churn_intl_pack)/483)*100)} percent')"
      ],
      "metadata": {
        "colab": {
          "base_uri": "https://localhost:8080/"
        },
        "id": "HHemfkbx_5kR",
        "outputId": "eb774849-4721-4137-9157-87e9f5fe9989"
      },
      "execution_count": 21,
      "outputs": [
        {
          "output_type": "stream",
          "name": "stdout",
          "text": [
            "out of 483 churn customers 137 has international plans \n",
            "i.e  28 percent\n"
          ]
        }
      ]
    },
    {
      "cell_type": "code",
      "source": [
        "unchurn_intl_pack = cust_churn_false[cust_churn_false['International plan'] == 'Yes']\n",
        "len(unchurn_intl_pack)\n",
        "\n",
        "print(f'out of {len(cust_churn_false)} regular customers {len(unchurn_intl_pack)} has international plans ')\n",
        "\n",
        "print(f'i.e  {round((len(unchurn_intl_pack)/len(cust_churn_false))*100)} percent')"
      ],
      "metadata": {
        "colab": {
          "base_uri": "https://localhost:8080/"
        },
        "id": "4EbMz6O4W7JE",
        "outputId": "00616587-2689-4ca5-ff3e-a068e113a8c0"
      },
      "execution_count": 22,
      "outputs": [
        {
          "output_type": "stream",
          "name": "stdout",
          "text": [
            "out of 2850 regular customers 186 has international plans \n",
            "i.e  7 percent\n"
          ]
        }
      ]
    },
    {
      "cell_type": "code",
      "source": [
        "# finding voice mail plans for churn and unchurn customers\n",
        "\n",
        "churn_vmail = cust_churn_true[cust_churn_true['Voice mail plan']=='Yes']\n",
        "\n",
        "print(f'out of {len(cust_churn_true)} churn customers {len(churn_vmail)} has voice mail plans ')\n",
        "\n",
        "print(f'i .e {round((len(churn_vmail)/483)*100,2)} percent')\n"
      ],
      "metadata": {
        "colab": {
          "base_uri": "https://localhost:8080/"
        },
        "id": "tk4Ip6coZv33",
        "outputId": "5498d26d-2ac0-4ae4-d8a9-1febf9b53b8f"
      },
      "execution_count": 23,
      "outputs": [
        {
          "output_type": "stream",
          "name": "stdout",
          "text": [
            "out of 483 churn customers 80 has voice mail plans \n",
            "i .e 16.56 percent\n"
          ]
        }
      ]
    },
    {
      "cell_type": "code",
      "source": [
        "unchurn_vmail = cust_churn_false[cust_churn_false['Voice mail plan']=='Yes']\n",
        "\n",
        "print(f'out of {len(cust_churn_false)} churn customers {len(unchurn_vmail)} has voice mail plans ')\n",
        "\n",
        "print(f'i .e {round((len(unchurn_vmail)/len(cust_churn_false))*100,2)} percent')\n",
        "\n"
      ],
      "metadata": {
        "colab": {
          "base_uri": "https://localhost:8080/"
        },
        "id": "gCbIDUGdbK59",
        "outputId": "d619e6a2-2091-4b9e-a438-97e4ce2ca315"
      },
      "execution_count": 24,
      "outputs": [
        {
          "output_type": "stream",
          "name": "stdout",
          "text": [
            "out of 2850 churn customers 842 has voice mail plans \n",
            "i .e 29.54 percent\n"
          ]
        }
      ]
    },
    {
      "cell_type": "code",
      "source": [
        "# Average of  total day minutes of churned and regular customers\n",
        "\n",
        "tot_day_mins_avgchurn = cust_churn_true['Total day minutes'].mean()\n",
        "\n",
        "print(f'Average of total day mins of churned customers is {round(tot_day_mins_avgchurn , 2)}')\n",
        "\n"
      ],
      "metadata": {
        "colab": {
          "base_uri": "https://localhost:8080/"
        },
        "id": "OUegq73pJgN2",
        "outputId": "a2a61e80-8e57-4a5b-8b56-6b48895273a0"
      },
      "execution_count": 25,
      "outputs": [
        {
          "output_type": "stream",
          "name": "stdout",
          "text": [
            "Average of total day mins of churned customers is 206.91\n"
          ]
        }
      ]
    },
    {
      "cell_type": "code",
      "source": [
        "tot_day_mins_avgregular = cust_churn_false['Total day minutes'].mean()\n",
        "\n",
        "print(f'Average of total day mins of Regular  customers is {round(tot_day_mins_avgregular , 2)}')\n",
        "\n"
      ],
      "metadata": {
        "colab": {
          "base_uri": "https://localhost:8080/"
        },
        "id": "QINHkzj0NjaY",
        "outputId": "4a530f46-4205-400f-b061-b30374269549"
      },
      "execution_count": 26,
      "outputs": [
        {
          "output_type": "stream",
          "name": "stdout",
          "text": [
            "Average of total day mins of Regular  customers is 175.18\n"
          ]
        }
      ]
    },
    {
      "cell_type": "code",
      "source": [
        "# Average of  total day calls of churned and regular customers\n",
        "\n",
        "tot_day_calls_avgchurn = cust_churn_true['Total day calls'].mean()\n",
        "\n",
        "print(round(tot_day_calls_avgchurn , 2))\n"
      ],
      "metadata": {
        "colab": {
          "base_uri": "https://localhost:8080/"
        },
        "id": "bP8pLekaPXPe",
        "outputId": "196a7b0a-c732-41c4-ca3e-52fc77a8e85b"
      },
      "execution_count": 27,
      "outputs": [
        {
          "output_type": "stream",
          "name": "stdout",
          "text": [
            "101.34\n"
          ]
        }
      ]
    },
    {
      "cell_type": "code",
      "source": [
        "tot_day_calls_avgregular = cust_churn_false['Total day calls'].mean()\n",
        "\n",
        "print(round(tot_day_calls_avgregular , 2))"
      ],
      "metadata": {
        "colab": {
          "base_uri": "https://localhost:8080/"
        },
        "id": "qioanGGjPyvT",
        "outputId": "997d7fb5-b7c9-456d-f886-5787213ac491"
      },
      "execution_count": 28,
      "outputs": [
        {
          "output_type": "stream",
          "name": "stdout",
          "text": [
            "100.28\n"
          ]
        }
      ]
    },
    {
      "cell_type": "code",
      "source": [
        "''' comparing data of churned and regular customers on evening calls average and total evening minutes '''\n",
        "\n",
        "avg_eve_mins_churn = cust_churn_true['Total eve minutes'].mean()\n",
        "\n",
        "print(avg_eve_mins_churn)"
      ],
      "metadata": {
        "colab": {
          "base_uri": "https://localhost:8080/"
        },
        "id": "6cIv4TIyRWjc",
        "outputId": "57ff8352-555c-46ee-b65d-e62c45e37873"
      },
      "execution_count": 29,
      "outputs": [
        {
          "output_type": "stream",
          "name": "stdout",
          "text": [
            "212.41014492753624\n"
          ]
        }
      ]
    },
    {
      "cell_type": "code",
      "source": [
        "avg_eve_mins_regular = cust_churn_false['Total eve minutes'].mean()\n",
        "\n",
        "print(avg_eve_mins_regular)"
      ],
      "metadata": {
        "colab": {
          "base_uri": "https://localhost:8080/"
        },
        "id": "phQIW6kfSNA6",
        "outputId": "e2b76ff8-72fd-4024-8d1b-8e976525c6c3"
      },
      "execution_count": 30,
      "outputs": [
        {
          "output_type": "stream",
          "name": "stdout",
          "text": [
            "199.043298245614\n"
          ]
        }
      ]
    },
    {
      "cell_type": "code",
      "source": [
        "# lets calculate avg of evening caals for churned and regular customers\n",
        "\n",
        "avg_eve_calls_churn = cust_churn_true['Total eve calls'].mean()\n",
        "\n",
        "print(avg_eve_calls_churn)"
      ],
      "metadata": {
        "colab": {
          "base_uri": "https://localhost:8080/"
        },
        "id": "Ef4G3GdQmh4W",
        "outputId": "01839046-416c-43ea-87c6-e4ff2cbf7a86"
      },
      "execution_count": 31,
      "outputs": [
        {
          "output_type": "stream",
          "name": "stdout",
          "text": [
            "100.56107660455487\n"
          ]
        }
      ]
    },
    {
      "cell_type": "code",
      "source": [
        "avg_eve_calls_regular = cust_churn_false['Total eve calls'].mean()\n",
        "\n",
        "print(avg_eve_calls_regular)"
      ],
      "metadata": {
        "colab": {
          "base_uri": "https://localhost:8080/"
        },
        "id": "OY8vKgQJnRgi",
        "outputId": "ef32947a-a093-4afa-8d13-5b71931db293"
      },
      "execution_count": 32,
      "outputs": [
        {
          "output_type": "stream",
          "name": "stdout",
          "text": [
            "100.03859649122808\n"
          ]
        }
      ]
    },
    {
      "cell_type": "code",
      "source": [
        "# lets find night data stats for churned and regular customers\n",
        "\n",
        "avg_night_mins_churn = cust_churn_true['Total night minutes'].mean()\n",
        "\n",
        "print(avg_night_mins_churn)"
      ],
      "metadata": {
        "colab": {
          "base_uri": "https://localhost:8080/"
        },
        "id": "IqyaM4gcos_-",
        "outputId": "ca7f5afb-bde1-4251-d47d-fe94217d6d4b"
      },
      "execution_count": 33,
      "outputs": [
        {
          "output_type": "stream",
          "name": "stdout",
          "text": [
            "205.23167701863352\n"
          ]
        }
      ]
    },
    {
      "cell_type": "code",
      "source": [
        "avg_night_mins_regular = cust_churn_false['Total night minutes'].mean()\n",
        "\n",
        "print(avg_night_mins_regular)"
      ],
      "metadata": {
        "colab": {
          "base_uri": "https://localhost:8080/"
        },
        "id": "96ILsWYypxdb",
        "outputId": "1cd34bd1-cc0c-4971-d715-ed11de206dcd"
      },
      "execution_count": 34,
      "outputs": [
        {
          "output_type": "stream",
          "name": "stdout",
          "text": [
            "200.13319298245614\n"
          ]
        }
      ]
    },
    {
      "cell_type": "code",
      "source": [
        "# lets calculate avg night calls for churned and unchurned customers\n",
        "\n",
        "avg_night_calls_churn = cust_churn_true['Total night calls'].mean()\n",
        "\n",
        "print(avg_night_calls_churn)"
      ],
      "metadata": {
        "colab": {
          "base_uri": "https://localhost:8080/"
        },
        "id": "tTgaLkCnqJ6N",
        "outputId": "f98ca69e-ab66-4625-88ba-83e7c4b8b04a"
      },
      "execution_count": 35,
      "outputs": [
        {
          "output_type": "stream",
          "name": "stdout",
          "text": [
            "100.39958592132506\n"
          ]
        }
      ]
    },
    {
      "cell_type": "code",
      "source": [
        "avg_night_calls_regular = cust_churn_false['Total night calls'].mean()\n",
        "\n",
        "print(avg_night_calls_regular)"
      ],
      "metadata": {
        "colab": {
          "base_uri": "https://localhost:8080/"
        },
        "id": "H-FWPB5Vq-sy",
        "outputId": "e92178ad-a77a-4acc-c024-8c63ffe4ab18"
      },
      "execution_count": 36,
      "outputs": [
        {
          "output_type": "stream",
          "name": "stdout",
          "text": [
            "100.05824561403509\n"
          ]
        }
      ]
    },
    {
      "cell_type": "code",
      "source": [
        "''' Here we will calculate the churn values and percentages for customers having both International plans and voice mail plan and comparing that with\n",
        " customers having only one of them '''\n",
        "\n",
        "cust_with_int_plan = df[df['International plan'] == 'Yes' ]\n",
        "cust_with_voice_mail_plan = df[df['Voice mail plan'] == 'Yes']\n"
      ],
      "metadata": {
        "id": "ldG6HjYZIPP7"
      },
      "execution_count": 37,
      "outputs": []
    },
    {
      "cell_type": "code",
      "source": [
        "# lets calculate churned customers who only had international plan\n",
        "\n",
        "print(f' Number of Customers with international plan is {len(cust_with_int_plan)}')\n",
        "print(f\"Number of churned customers having only International plan is {len(cust_with_int_plan[cust_with_int_plan['Churn'] == True])}\")\n",
        "print(f\" i.e {((len(cust_with_int_plan[cust_with_int_plan['Churn'] == True]) / len(cust_with_int_plan)  )) * 100} % of percent churn\")"
      ],
      "metadata": {
        "colab": {
          "base_uri": "https://localhost:8080/"
        },
        "id": "CJr0OjFuDldl",
        "outputId": "b8b09ebe-bfc5-4fab-9477-735cff54a18d"
      },
      "execution_count": 38,
      "outputs": [
        {
          "output_type": "stream",
          "name": "stdout",
          "text": [
            " Number of Customers with international plan is 323\n",
            "Number of churned customers having only International plan is 137\n",
            " i.e 42.414860681114554 % of percent churn\n"
          ]
        }
      ]
    },
    {
      "cell_type": "code",
      "source": [
        "# lets calculate churned customers who only had Voice Mail  plan\n",
        "\n",
        "print(f\" Number of customers with Voice mail plan only {len(cust_with_voice_mail_plan)}\")\n",
        "print(f\" Number of churned customers having only International plan is {len(cust_with_voice_mail_plan[cust_with_voice_mail_plan['Churn']== True ])}\")\n",
        "print(f\" i.e {(len(cust_with_voice_mail_plan[cust_with_voice_mail_plan['Churn']== True ]) /  len(cust_with_voice_mail_plan)) * 100} % of percent churn \")"
      ],
      "metadata": {
        "colab": {
          "base_uri": "https://localhost:8080/"
        },
        "id": "rkKVOxIQGVMy",
        "outputId": "11d03f71-5daf-4965-916c-54b0abfad70a"
      },
      "execution_count": 39,
      "outputs": [
        {
          "output_type": "stream",
          "name": "stdout",
          "text": [
            " Number of customers with Voice mail plan only 922\n",
            " Number of churned customers having only International plan is 80\n",
            " i.e 8.676789587852495 % of percent churn \n"
          ]
        }
      ]
    },
    {
      "cell_type": "markdown",
      "source": [
        "### What all manipulations have you done and insights you found?"
      ],
      "metadata": {
        "id": "MSa1f5Uengrz"
      }
    },
    {
      "cell_type": "markdown",
      "source": [
        "According to my idea, we will get a clear view of the customers those who aren't churning through graphical representations but we have to deep dive into the churned customer's behaviour and to search for some hypothetical statements and insights which might lead us to the reason for churning. That's why, I took the Churned customer data to find out the reason or churning behaviour and the pattern. Then, I experimented with different logics to extract some insights.\n",
        "\n"
      ],
      "metadata": {
        "id": "LbyXE7I1olp8"
      }
    },
    {
      "cell_type": "markdown",
      "source": [
        "The number of churned customers is 483 out of 3333 customers , i.e around 14.5 % customers .\n",
        "\n",
        "![image.png](data:image/png;base64,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)\n",
        "\n",
        "I also calculated the area wise churn rates where the conclusion is Area with area code 415  has the highest churn rate with a count 236 churned customers .\n",
        "\n",
        "\n",
        "![image.png](data:image/png;base64,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)\n",
        "\n",
        "\n",
        "---\n",
        "\n",
        "I created diffrent dataframes for churned and regular customers to calculate seprate stats for mostly churned customers to find insights and logics for churn rate .\n",
        "\n",
        "\n",
        "\n",
        "*   One of the findings for International Plan is that  the 28 % of churned customers has International plans while only 7 % of regular customers has internatolnal plans . It can be because customers with international plans require it for limited amount of months after which they discontinue the service.\n",
        "\n",
        "*   one another unusual finding is churned customers  average of total day minutes is greater than the average of regular customers . so customers with higher total day minutes should be considered and suitable discounts or offers should be made to retain such customers .\n",
        "\n",
        "\n",
        "\n",
        "Reasons for churn those who have taken NO plan:\n",
        "\n",
        "*  Because they are unsatisfied with the Customer service calls as the average indicates 2.3. (it must be between 1-1.5 for no churn)\n",
        "\n",
        "* Customer service calls mean is 1-1.7 and it’s good and try to keep between 1-1.5.\n",
        "\n",
        "\n",
        "\n",
        "\n",
        "\n"
      ],
      "metadata": {
        "id": "s7DkqvAqZEdP"
      }
    },
    {
      "cell_type": "markdown",
      "source": [],
      "metadata": {
        "id": "XdPZTJcCZ_-c"
      }
    },
    {
      "cell_type": "markdown",
      "source": [
        "## ***4. Data Vizualization, Storytelling & Experimenting with charts : Understand the relationships between variables***"
      ],
      "metadata": {
        "id": "GF8Ens_Soomf"
      }
    },
    {
      "cell_type": "markdown",
      "source": [
        "#### Chart - 1"
      ],
      "metadata": {
        "id": "0wOQAZs5pc--"
      }
    },
    {
      "cell_type": "code",
      "source": [
        "# Chart - 1 visualization code\n",
        "\n",
        "# Dependant Variable Column Visualization\n",
        "df['Churn'].value_counts().plot(kind='pie',\n",
        "                              figsize=(15,6),\n",
        "                               autopct=\"%1.1f%%\",\n",
        "                               shadow=True,\n",
        "                               labels=['Not Churn(%)','Churn(%)'],\n",
        "                               colors=['skyblue','red'],\n",
        "                               explode=[0,0]\n",
        "                              )\n",
        "\n",
        "# assignig a suitable title\n",
        "\n",
        "plt.title('Customer churn analysis')"
      ],
      "metadata": {
        "id": "7v_ESjsspbW7",
        "colab": {
          "base_uri": "https://localhost:8080/",
          "height": 538
        },
        "outputId": "9b1b5946-b9d5-46c0-85c8-6062291eba4f"
      },
      "execution_count": 40,
      "outputs": [
        {
          "output_type": "execute_result",
          "data": {
            "text/plain": [
              "Text(0.5, 1.0, 'Customer churn analysis')"
            ]
          },
          "metadata": {},
          "execution_count": 40
        },
        {
          "output_type": "display_data",
          "data": {
            "text/plain": [
              "<Figure size 1500x600 with 1 Axes>"
            ],
            "image/png": "[encoded data removed]"
          },
          "metadata": {}
        }
      ]
    },
    {
      "cell_type": "markdown",
      "source": [
        "##### 1. Why did you pick the specific chart?"
      ],
      "metadata": {
        "id": "K5QZ13OEpz2H"
      }
    },
    {
      "cell_type": "markdown",
      "source": [
        "A pie chart expresses a part-to-whole relationship in your data. It's easy to explain the percentage comparison through area covered in a circle with different colors. Where differenet percentage comparison comes into action pie chart is used frequently. So, I used Pie chart and which helped me to get the percentage comparision of the dependant variable."
      ],
      "metadata": {
        "id": "XESiWehPqBRc"
      }
    },
    {
      "cell_type": "markdown",
      "source": [
        "##### 2. What is/are the insight(s) found from the chart?"
      ],
      "metadata": {
        "id": "lQ7QKXXCp7Bj"
      }
    },
    {
      "cell_type": "markdown",
      "source": [
        "From the above chart I got to know that, there are 2850 customers which are not churned which is 85.5% of the whole customers data given in the dataset. In other hand, 483 customers are churned which is 14.%% of the whold customers data given in the dataset.\n",
        "\n",
        "14.5% customers are churned which might look like a small number, but once upon a time the 14.5% was 1.45% which has grown upto 14.5%. So, Immediate action should be taken"
      ],
      "metadata": {
        "id": "C_j1G7yiqdRP"
      }
    },
    {
      "cell_type": "markdown",
      "source": [
        "##### 3. Will the gained insights help creating a positive business impact?\n",
        "Are there any insights that lead to negative growth? Justify with specific reason.\n",
        "\n"
      ],
      "metadata": {
        "id": "448CDAPjqfQr"
      }
    },
    {
      "cell_type": "markdown",
      "source": [
        "Customer churn is often referred to as customer attrition, or customer defection which is the rate at which the customers are lost. Telecom companies often use customer churn as a key business metrics to predict the number of customers that will leave a telecom service provider. Churn is significant in the telecommunication industry because it directly affects the competitiveness of the service provider.\n",
        "\n",
        "It's easy to loss customers but too difficult to aquire one. One churned cutomer will make 3-4 customers away those might be acquired by your teleservice provider with \"POWER OF WORDS\".\n",
        "\n",
        "When Jio provided free internnet services to everyone, and started acquiring maximum number of customers, so cutomer churn rate for other teleservice providers increased and customers from other teleservice providers those who converted to JIO spread the benefit of JIO to their relatives and friends and they also converted too easily. So, \"POWER OF WORDS\" also comes into action that wrong and bad reviews spread first."
      ],
      "metadata": {
        "id": "3cspy4FjqxJW"
      }
    },
    {
      "cell_type": "markdown",
      "source": [
        "#### Chart - 2"
      ],
      "metadata": {
        "id": "KSlN3yHqYklG"
      }
    },
    {
      "cell_type": "code",
      "source": [
        "# Chart - 2 visualization code\n",
        "\n",
        "# Showing Average True Churn Percentage state wise\n",
        "# Showing top 10 churned state\n",
        "print((df.groupby(['State'])['Churn'].mean()*100).sort_values(ascending = False).reset_index(name=\"Average True CHurn %\").head(10))\n",
        "print(\" \")\n",
        "\n",
        "# State vs. average true churn percantage visualization code\n",
        "# Vizualizing top 10 churned state\n",
        "plt.rcParams['figure.figsize'] = (12, 7)\n",
        "color = plt.cm.copper(np.linspace(0, 0.5, 20))\n",
        "((df.groupby(['State'])['Churn'].mean())*100).sort_values(ascending = False).head(10).plot.bar(color = ['violet','indigo','b','g','y','orange','r'])\n",
        "plt.title(\" State with most churn percentage\", fontsize = 20)\n",
        "plt.xlabel('state', fontsize = 15)\n",
        "plt.ylabel('percentage', fontsize = 15)\n",
        "plt.show()"
      ],
      "metadata": {
        "id": "R4YgtaqtYklH",
        "colab": {
          "base_uri": "https://localhost:8080/",
          "height": 872
        },
        "outputId": "40408603-c7d0-4c98-e6fd-d59509346e9d"
      },
      "execution_count": 44,
      "outputs": [
        {
          "output_type": "stream",
          "name": "stdout",
          "text": [
            "  State  Average True CHurn %\n",
            "0    NJ             26.470588\n",
            "1    CA             26.470588\n",
            "2    TX             25.000000\n",
            "3    MD             24.285714\n",
            "4    SC             23.333333\n",
            "5    MI             21.917808\n",
            "6    MS             21.538462\n",
            "7    NV             21.212121\n",
            "8    WA             21.212121\n",
            "9    ME             20.967742\n",
            " \n"
          ]
        },
        {
          "output_type": "display_data",
          "data": {
            "text/plain": [
              "<Figure size 1200x700 with 1 Axes>"
            ],
            "image/png": "[encoded data removed]"
          },
          "metadata": {}
        }
      ]
    },
    {
      "cell_type": "markdown",
      "source": [
        "##### 1. Why did you pick the specific chart?"
      ],
      "metadata": {
        "id": "t6dVpIINYklI"
      }
    },
    {
      "cell_type": "markdown",
      "source": [
        "Bar charts show the frequency counts of values for the different levels of a categorical or nominal variable. Sometimes, bar charts show other statistics, such as percentages.\n",
        "\n",
        "To show the average percentage of true churn with respect to states, I have used Bar Chart."
      ],
      "metadata": {
        "id": "5aaW0BYyYklI"
      }
    },
    {
      "cell_type": "markdown",
      "source": [
        "##### 2. What is/are the insight(s) found from the chart?"
      ],
      "metadata": {
        "id": "ijmpgYnKYklI"
      }
    },
    {
      "cell_type": "markdown",
      "source": [
        "There are 51 states having different churn rates .\n",
        "\n",
        "CA, NJ ,TX , MD ,SC ,MI, MS, NV, WA, ME are the ones who have higher churn rate more then 21.74% which is more than 50% of average churn rate.\n",
        "\n",
        "Under the Data wrangling, I have defined a hypothetical logic for some states with poor network region and some states where service needs to be maintained or new installations required. So, here states [ ' NV ', ' NJ ' ] are common which are in top 10 churned states."
      ],
      "metadata": {
        "id": "PSx9atu2YklI"
      }
    },
    {
      "cell_type": "markdown",
      "source": [
        "##### 3. Will the gained insights help creating a positive business impact?\n",
        "Are there any insights that lead to negative growth? Justify with specific reason."
      ],
      "metadata": {
        "id": "-JiQyfWJYklI"
      }
    },
    {
      "cell_type": "markdown",
      "source": [
        "**Yes**, the data of state wise churning depicts that 10% of a large state is same as 20% of a smaller state. So, we can't neglect the churn rates and will have to sagreggate based on the area covereage in respective states. Still, priotizing to actionable tasks we should try to figure out the issues in top 10 churning states first.\n",
        "\n",
        "The issue might be poor network coverage or negligible maintaince on existing antenna, or total area coverage & no. of mobile tower or users is low or new towers needs to be installed to coverage additional areas."
      ],
      "metadata": {
        "id": "BcBbebzrYklV"
      }
    },
    {
      "cell_type": "markdown",
      "source": [
        "#### Chart - 3"
      ],
      "metadata": {
        "id": "EM7whBJCYoAo"
      }
    },
    {
      "cell_type": "code",
      "source": [
        "\n",
        "\n",
        "# Chart - 3 visualization code\n",
        "# One Digit Account Length\n",
        "print(df[df['Account length']<=9].loc[:,['Churn']].value_counts())\n",
        "print(\" \")\n",
        "\n",
        "# Visualizing One Digit Account Length Based on Churn percentage\n",
        "df[df['Account length']<=9].loc[:,['Churn']].value_counts().plot(kind='pie',\n",
        "                              figsize=(15,6),\n",
        "                               autopct=\"%1.1f%%\",\n",
        "                               startangle=90,\n",
        "                               shadow=True,\n",
        "                               labels=['No','Yes'],\n",
        "                               colors=['skyblue','red'],\n",
        "                               explode=[0,0]\n",
        "                              )"
      ],
      "metadata": {
        "id": "t6GMdE67YoAp",
        "colab": {
          "base_uri": "https://localhost:8080/",
          "height": 603
        },
        "outputId": "113dee2b-d906-4de5-8f7a-de947f98f6a7"
      },
      "execution_count": 45,
      "outputs": [
        {
          "output_type": "stream",
          "name": "stdout",
          "text": [
            "Churn\n",
            "False    22\n",
            "True      2\n",
            "Name: count, dtype: int64\n",
            " \n"
          ]
        },
        {
          "output_type": "execute_result",
          "data": {
            "text/plain": [
              "<Axes: ylabel='count'>"
            ]
          },
          "metadata": {},
          "execution_count": 45
        },
        {
          "output_type": "display_data",
          "data": {
            "text/plain": [
              "<Figure size 1500x600 with 1 Axes>"
            ],
            "image/png": "[encoded data removed]"
          },
          "metadata": {}
        }
      ]
    },
    {
      "cell_type": "code",
      "source": [
        "# Two Digit Account Length\n",
        "print(df[(df['Account length']<=99) & (df['Account length']>=10)].loc[:,['Churn']].value_counts())\n",
        "print(\" \")\n",
        "\n",
        "# Visualizing Two Digit Account Length Based on Churn percentage\n",
        "df[(df['Account length']<=99) & (df['Account length']>=10)].loc[:,['Churn']].value_counts().plot(kind='pie',\n",
        "                              figsize=(15,6),\n",
        "                               autopct=\"%1.1f%%\",\n",
        "                               startangle=90,\n",
        "                               shadow=True,\n",
        "                               labels=['No','Yes'],\n",
        "                               colors=['skyblue','red'],\n",
        "                               explode=[0,0]\n",
        "                              )"
      ],
      "metadata": {
        "colab": {
          "base_uri": "https://localhost:8080/",
          "height": 603
        },
        "id": "X3pYypiJ61cH",
        "outputId": "02478037-ceb0-44df-aa2f-81c0f398f538"
      },
      "execution_count": 46,
      "outputs": [
        {
          "output_type": "stream",
          "name": "stdout",
          "text": [
            "Churn\n",
            "False    1378\n",
            "True      225\n",
            "Name: count, dtype: int64\n",
            " \n"
          ]
        },
        {
          "output_type": "execute_result",
          "data": {
            "text/plain": [
              "<Axes: ylabel='count'>"
            ]
          },
          "metadata": {},
          "execution_count": 46
        },
        {
          "output_type": "display_data",
          "data": {
            "text/plain": [
              "<Figure size 1500x600 with 1 Axes>"
            ],
            "image/png": "[encoded data removed]"
          },
          "metadata": {}
        }
      ]
    },
    {
      "cell_type": "code",
      "source": [
        "# Three Digit Account Length\n",
        "print(df[(df['Account length']<=df['Account length'].max()) & (df['Account length']>=100)].loc[:,['Churn']].value_counts())\n",
        "print(\" \")\n",
        "\n",
        "# Visualizing Three Digit Account Length Based on Churn percentage\n",
        "df[(df['Account length']<=df['Account length'].max()) & (df['Account length']>=100)].loc[:,['Churn']].value_counts().plot(kind='pie',\n",
        "                              figsize=(15,6),\n",
        "                               autopct=\"%1.1f%%\",\n",
        "                               startangle=90,\n",
        "                               shadow=True,\n",
        "                               labels=['No','Yes'],\n",
        "                               colors=['skyblue','red'],\n",
        "                               explode=[0,0]\n",
        "                              )"
      ],
      "metadata": {
        "colab": {
          "base_uri": "https://localhost:8080/",
          "height": 603
        },
        "id": "bpcdpAAw7LC7",
        "outputId": "e8d39702-85a7-45c7-b038-d6a135cc163a"
      },
      "execution_count": 48,
      "outputs": [
        {
          "output_type": "stream",
          "name": "stdout",
          "text": [
            "Churn\n",
            "False    1450\n",
            "True      256\n",
            "Name: count, dtype: int64\n",
            " \n"
          ]
        },
        {
          "output_type": "execute_result",
          "data": {
            "text/plain": [
              "<Axes: ylabel='count'>"
            ]
          },
          "metadata": {},
          "execution_count": 48
        },
        {
          "output_type": "display_data",
          "data": {
            "text/plain": [
              "<Figure size 1500x600 with 1 Axes>"
            ],
            "image/png": "[encoded data removed]"
          },
          "metadata": {}
        }
      ]
    },
    {
      "cell_type": "code",
      "source": [
        "# Box Plot for Account Length attribute\n",
        "df.boxplot(column='Account length',by='Churn')"
      ],
      "metadata": {
        "colab": {
          "base_uri": "https://localhost:8080/",
          "height": 678
        },
        "id": "yV2fmGtl7nHU",
        "outputId": "cea3d25b-343a-49ab-836a-8449d92f1260"
      },
      "execution_count": 50,
      "outputs": [
        {
          "output_type": "execute_result",
          "data": {
            "text/plain": [
              "<Axes: title={'center': 'Account length'}, xlabel='Churn'>"
            ]
          },
          "metadata": {},
          "execution_count": 50
        },
        {
          "output_type": "display_data",
          "data": {
            "text/plain": [
              "<Figure size 1200x700 with 1 Axes>"
            ],
            "image/png": "[encoded data removed]"
          },
          "metadata": {}
        }
      ]
    },
    {
      "cell_type": "markdown",
      "source": [
        "##### 1. Why did you pick the specific chart?"
      ],
      "metadata": {
        "id": "fge-S5ZAYoAp"
      }
    },
    {
      "cell_type": "markdown",
      "source": [],
      "metadata": {
        "id": "5dBItgRVYoAp"
      }
    },
    {
      "cell_type": "markdown",
      "source": [
        "##### 2. What is/are the insight(s) found from the chart?"
      ],
      "metadata": {
        "id": "85gYPyotYoAp"
      }
    },
    {
      "cell_type": "markdown",
      "source": [
        "Answer Here"
      ],
      "metadata": {
        "id": "4jstXR6OYoAp"
      }
    },
    {
      "cell_type": "markdown",
      "source": [
        "##### 3. Will the gained insights help creating a positive business impact?\n",
        "Are there any insights that lead to negative growth? Justify with specific reason."
      ],
      "metadata": {
        "id": "RoGjAbkUYoAp"
      }
    },
    {
      "cell_type": "markdown",
      "source": [
        "Answer Here"
      ],
      "metadata": {
        "id": "zfJ8IqMcYoAp"
      }
    },
    {
      "cell_type": "markdown",
      "source": [
        "#### Chart - 4"
      ],
      "metadata": {
        "id": "4Of9eVA-YrdM"
      }
    },
    {
      "cell_type": "code",
      "source": [
        "# Chart - 4 visualization code"
      ],
      "metadata": {
        "id": "irlUoxc8YrdO"
      },
      "execution_count": null,
      "outputs": []
    },
    {
      "cell_type": "markdown",
      "source": [
        "##### 1. Why did you pick the specific chart?"
      ],
      "metadata": {
        "id": "iky9q4vBYrdO"
      }
    },
    {
      "cell_type": "markdown",
      "source": [
        "Answer Here."
      ],
      "metadata": {
        "id": "aJRCwT6DYrdO"
      }
    },
    {
      "cell_type": "markdown",
      "source": [
        "##### 2. What is/are the insight(s) found from the chart?"
      ],
      "metadata": {
        "id": "F6T5p64dYrdO"
      }
    },
    {
      "cell_type": "markdown",
      "source": [
        "Answer Here"
      ],
      "metadata": {
        "id": "Xx8WAJvtYrdO"
      }
    },
    {
      "cell_type": "markdown",
      "source": [
        "##### 3. Will the gained insights help creating a positive business impact?\n",
        "Are there any insights that lead to negative growth? Justify with specific reason."
      ],
      "metadata": {
        "id": "y-Ehk30pYrdP"
      }
    },
    {
      "cell_type": "markdown",
      "source": [
        "Answer Here"
      ],
      "metadata": {
        "id": "jLNxxz7MYrdP"
      }
    },
    {
      "cell_type": "markdown",
      "source": [
        "#### Chart - 5"
      ],
      "metadata": {
        "id": "bamQiAODYuh1"
      }
    },
    {
      "cell_type": "code",
      "source": [
        "# Chart - 5 visualization code"
      ],
      "metadata": {
        "id": "TIJwrbroYuh3"
      },
      "execution_count": null,
      "outputs": []
    },
    {
      "cell_type": "markdown",
      "source": [
        "##### 1. Why did you pick the specific chart?"
      ],
      "metadata": {
        "id": "QHF8YVU7Yuh3"
      }
    },
    {
      "cell_type": "markdown",
      "source": [
        "Answer Here."
      ],
      "metadata": {
        "id": "dcxuIMRPYuh3"
      }
    },
    {
      "cell_type": "markdown",
      "source": [
        "##### 2. What is/are the insight(s) found from the chart?"
      ],
      "metadata": {
        "id": "GwzvFGzlYuh3"
      }
    },
    {
      "cell_type": "markdown",
      "source": [
        "Answer Here"
      ],
      "metadata": {
        "id": "uyqkiB8YYuh3"
      }
    },
    {
      "cell_type": "markdown",
      "source": [
        "##### 3. Will the gained insights help creating a positive business impact?\n",
        "Are there any insights that lead to negative growth? Justify with specific reason."
      ],
      "metadata": {
        "id": "qYpmQ266Yuh3"
      }
    },
    {
      "cell_type": "markdown",
      "source": [
        "Answer Here"
      ],
      "metadata": {
        "id": "_WtzZ_hCYuh4"
      }
    },
    {
      "cell_type": "markdown",
      "source": [
        "#### Chart - 6"
      ],
      "metadata": {
        "id": "OH-pJp9IphqM"
      }
    },
    {
      "cell_type": "code",
      "source": [
        "# Chart - 6 visualization code"
      ],
      "metadata": {
        "id": "kuRf4wtuphqN"
      },
      "execution_count": null,
      "outputs": []
    },
    {
      "cell_type": "markdown",
      "source": [
        "##### 1. Why did you pick the specific chart?"
      ],
      "metadata": {
        "id": "bbFf2-_FphqN"
      }
    },
    {
      "cell_type": "markdown",
      "source": [
        "Answer Here."
      ],
      "metadata": {
        "id": "loh7H2nzphqN"
      }
    },
    {
      "cell_type": "markdown",
      "source": [
        "##### 2. What is/are the insight(s) found from the chart?"
      ],
      "metadata": {
        "id": "_ouA3fa0phqN"
      }
    },
    {
      "cell_type": "markdown",
      "source": [
        "Answer Here"
      ],
      "metadata": {
        "id": "VECbqPI7phqN"
      }
    },
    {
      "cell_type": "markdown",
      "source": [
        "##### 3. Will the gained insights help creating a positive business impact?\n",
        "Are there any insights that lead to negative growth? Justify with specific reason."
      ],
      "metadata": {
        "id": "Seke61FWphqN"
      }
    },
    {
      "cell_type": "markdown",
      "source": [
        "Answer Here"
      ],
      "metadata": {
        "id": "DW4_bGpfphqN"
      }
    },
    {
      "cell_type": "markdown",
      "source": [
        "#### Chart - 7"
      ],
      "metadata": {
        "id": "PIIx-8_IphqN"
      }
    },
    {
      "cell_type": "code",
      "source": [
        "# Chart - 7 visualization code"
      ],
      "metadata": {
        "id": "lqAIGUfyphqO"
      },
      "execution_count": null,
      "outputs": []
    },
    {
      "cell_type": "markdown",
      "source": [
        "##### 1. Why did you pick the specific chart?"
      ],
      "metadata": {
        "id": "t27r6nlMphqO"
      }
    },
    {
      "cell_type": "markdown",
      "source": [
        "Answer Here."
      ],
      "metadata": {
        "id": "iv6ro40sphqO"
      }
    },
    {
      "cell_type": "markdown",
      "source": [
        "##### 2. What is/are the insight(s) found from the chart?"
      ],
      "metadata": {
        "id": "r2jJGEOYphqO"
      }
    },
    {
      "cell_type": "markdown",
      "source": [
        "Answer Here"
      ],
      "metadata": {
        "id": "Po6ZPi4hphqO"
      }
    },
    {
      "cell_type": "markdown",
      "source": [
        "##### 3. Will the gained insights help creating a positive business impact?\n",
        "Are there any insights that lead to negative growth? Justify with specific reason."
      ],
      "metadata": {
        "id": "b0JNsNcRphqO"
      }
    },
    {
      "cell_type": "markdown",
      "source": [
        "Answer Here"
      ],
      "metadata": {
        "id": "xvSq8iUTphqO"
      }
    },
    {
      "cell_type": "markdown",
      "source": [
        "#### Chart - 8"
      ],
      "metadata": {
        "id": "BZR9WyysphqO"
      }
    },
    {
      "cell_type": "code",
      "source": [
        "# Chart - 8 visualization code"
      ],
      "metadata": {
        "id": "TdPTWpAVphqO"
      },
      "execution_count": null,
      "outputs": []
    },
    {
      "cell_type": "markdown",
      "source": [
        "##### 1. Why did you pick the specific chart?"
      ],
      "metadata": {
        "id": "jj7wYXLtphqO"
      }
    },
    {
      "cell_type": "markdown",
      "source": [
        "Answer Here."
      ],
      "metadata": {
        "id": "Ob8u6rCTphqO"
      }
    },
    {
      "cell_type": "markdown",
      "source": [
        "##### 2. What is/are the insight(s) found from the chart?"
      ],
      "metadata": {
        "id": "eZrbJ2SmphqO"
      }
    },
    {
      "cell_type": "markdown",
      "source": [
        "Answer Here"
      ],
      "metadata": {
        "id": "mZtgC_hjphqO"
      }
    },
    {
      "cell_type": "markdown",
      "source": [
        "##### 3. Will the gained insights help creating a positive business impact?\n",
        "Are there any insights that lead to negative growth? Justify with specific reason."
      ],
      "metadata": {
        "id": "rFu4xreNphqO"
      }
    },
    {
      "cell_type": "markdown",
      "source": [
        "Answer Here"
      ],
      "metadata": {
        "id": "ey_0qi68phqO"
      }
    },
    {
      "cell_type": "markdown",
      "source": [
        "#### Chart - 9"
      ],
      "metadata": {
        "id": "YJ55k-q6phqO"
      }
    },
    {
      "cell_type": "code",
      "source": [
        "# Chart - 9 visualization code"
      ],
      "metadata": {
        "id": "B2aS4O1ophqO"
      },
      "execution_count": null,
      "outputs": []
    },
    {
      "cell_type": "markdown",
      "source": [
        "##### 1. Why did you pick the specific chart?"
      ],
      "metadata": {
        "id": "gCFgpxoyphqP"
      }
    },
    {
      "cell_type": "markdown",
      "source": [
        "Answer Here."
      ],
      "metadata": {
        "id": "TVxDimi2phqP"
      }
    },
    {
      "cell_type": "markdown",
      "source": [
        "##### 2. What is/are the insight(s) found from the chart?"
      ],
      "metadata": {
        "id": "OVtJsKN_phqQ"
      }
    },
    {
      "cell_type": "markdown",
      "source": [
        "Answer Here"
      ],
      "metadata": {
        "id": "ngGi97qjphqQ"
      }
    },
    {
      "cell_type": "markdown",
      "source": [
        "##### 3. Will the gained insights help creating a positive business impact?\n",
        "Are there any insights that lead to negative growth? Justify with specific reason."
      ],
      "metadata": {
        "id": "lssrdh5qphqQ"
      }
    },
    {
      "cell_type": "markdown",
      "source": [
        "Answer Here"
      ],
      "metadata": {
        "id": "tBpY5ekJphqQ"
      }
    },
    {
      "cell_type": "markdown",
      "source": [
        "#### Chart - 10"
      ],
      "metadata": {
        "id": "U2RJ9gkRphqQ"
      }
    },
    {
      "cell_type": "code",
      "source": [
        "# Chart - 10 visualization code"
      ],
      "metadata": {
        "id": "GM7a4YP4phqQ"
      },
      "execution_count": null,
      "outputs": []
    },
    {
      "cell_type": "markdown",
      "source": [
        "##### 1. Why did you pick the specific chart?"
      ],
      "metadata": {
        "id": "1M8mcRywphqQ"
      }
    },
    {
      "cell_type": "markdown",
      "source": [
        "Answer Here."
      ],
      "metadata": {
        "id": "8agQvks0phqQ"
      }
    },
    {
      "cell_type": "markdown",
      "source": [
        "##### 2. What is/are the insight(s) found from the chart?"
      ],
      "metadata": {
        "id": "tgIPom80phqQ"
      }
    },
    {
      "cell_type": "markdown",
      "source": [
        "Answer Here"
      ],
      "metadata": {
        "id": "Qp13pnNzphqQ"
      }
    },
    {
      "cell_type": "markdown",
      "source": [
        "##### 3. Will the gained insights help creating a positive business impact?\n",
        "Are there any insights that lead to negative growth? Justify with specific reason."
      ],
      "metadata": {
        "id": "JMzcOPDDphqR"
      }
    },
    {
      "cell_type": "markdown",
      "source": [
        "Answer Here"
      ],
      "metadata": {
        "id": "R4Ka1PC2phqR"
      }
    },
    {
      "cell_type": "markdown",
      "source": [
        "#### Chart - 11"
      ],
      "metadata": {
        "id": "x-EpHcCOp1ci"
      }
    },
    {
      "cell_type": "code",
      "source": [
        "# Chart - 11 visualization code"
      ],
      "metadata": {
        "id": "mAQTIvtqp1cj"
      },
      "execution_count": null,
      "outputs": []
    },
    {
      "cell_type": "markdown",
      "source": [
        "##### 1. Why did you pick the specific chart?"
      ],
      "metadata": {
        "id": "X_VqEhTip1ck"
      }
    },
    {
      "cell_type": "markdown",
      "source": [
        "Answer Here."
      ],
      "metadata": {
        "id": "-vsMzt_np1ck"
      }
    },
    {
      "cell_type": "markdown",
      "source": [
        "##### 2. What is/are the insight(s) found from the chart?"
      ],
      "metadata": {
        "id": "8zGJKyg5p1ck"
      }
    },
    {
      "cell_type": "markdown",
      "source": [
        "Answer Here"
      ],
      "metadata": {
        "id": "ZYdMsrqVp1ck"
      }
    },
    {
      "cell_type": "markdown",
      "source": [
        "##### 3. Will the gained insights help creating a positive business impact?\n",
        "Are there any insights that lead to negative growth? Justify with specific reason."
      ],
      "metadata": {
        "id": "PVzmfK_Ep1ck"
      }
    },
    {
      "cell_type": "markdown",
      "source": [
        "Answer Here"
      ],
      "metadata": {
        "id": "druuKYZpp1ck"
      }
    },
    {
      "cell_type": "markdown",
      "source": [
        "#### Chart - 12"
      ],
      "metadata": {
        "id": "n3dbpmDWp1ck"
      }
    },
    {
      "cell_type": "code",
      "source": [
        "# Chart - 12 visualization code"
      ],
      "metadata": {
        "id": "bwevp1tKp1ck"
      },
      "execution_count": null,
      "outputs": []
    },
    {
      "cell_type": "markdown",
      "source": [
        "##### 1. Why did you pick the specific chart?"
      ],
      "metadata": {
        "id": "ylSl6qgtp1ck"
      }
    },
    {
      "cell_type": "markdown",
      "source": [
        "Answer Here."
      ],
      "metadata": {
        "id": "m2xqNkiQp1ck"
      }
    },
    {
      "cell_type": "markdown",
      "source": [
        "##### 2. What is/are the insight(s) found from the chart?"
      ],
      "metadata": {
        "id": "ZWILFDl5p1ck"
      }
    },
    {
      "cell_type": "markdown",
      "source": [
        "Answer Here"
      ],
      "metadata": {
        "id": "x-lUsV2mp1ck"
      }
    },
    {
      "cell_type": "markdown",
      "source": [
        "##### 3. Will the gained insights help creating a positive business impact?\n",
        "Are there any insights that lead to negative growth? Justify with specific reason."
      ],
      "metadata": {
        "id": "M7G43BXep1ck"
      }
    },
    {
      "cell_type": "markdown",
      "source": [
        "Answer Here"
      ],
      "metadata": {
        "id": "5wwDJXsLp1cl"
      }
    },
    {
      "cell_type": "markdown",
      "source": [
        "#### Chart - 13"
      ],
      "metadata": {
        "id": "Ag9LCva-p1cl"
      }
    },
    {
      "cell_type": "code",
      "source": [
        "# Chart - 13 visualization code"
      ],
      "metadata": {
        "id": "EUfxeq9-p1cl"
      },
      "execution_count": null,
      "outputs": []
    },
    {
      "cell_type": "markdown",
      "source": [
        "##### 1. Why did you pick the specific chart?"
      ],
      "metadata": {
        "id": "E6MkPsBcp1cl"
      }
    },
    {
      "cell_type": "markdown",
      "source": [
        "Answer Here."
      ],
      "metadata": {
        "id": "V22bRsFWp1cl"
      }
    },
    {
      "cell_type": "markdown",
      "source": [
        "##### 2. What is/are the insight(s) found from the chart?"
      ],
      "metadata": {
        "id": "2cELzS2fp1cl"
      }
    },
    {
      "cell_type": "markdown",
      "source": [
        "Answer Here"
      ],
      "metadata": {
        "id": "ozQPc2_Ip1cl"
      }
    },
    {
      "cell_type": "markdown",
      "source": [
        "##### 3. Will the gained insights help creating a positive business impact?\n",
        "Are there any insights that lead to negative growth? Justify with specific reason."
      ],
      "metadata": {
        "id": "3MPXvC8up1cl"
      }
    },
    {
      "cell_type": "markdown",
      "source": [
        "Answer Here"
      ],
      "metadata": {
        "id": "GL8l1tdLp1cl"
      }
    },
    {
      "cell_type": "markdown",
      "source": [
        "#### Chart - 14 - Correlation Heatmap"
      ],
      "metadata": {
        "id": "NC_X3p0fY2L0"
      }
    },
    {
      "cell_type": "code",
      "source": [
        "# Correlation Heatmap visualization code"
      ],
      "metadata": {
        "id": "xyC9zolEZNRQ"
      },
      "execution_count": null,
      "outputs": []
    },
    {
      "cell_type": "markdown",
      "source": [
        "##### 1. Why did you pick the specific chart?"
      ],
      "metadata": {
        "id": "UV0SzAkaZNRQ"
      }
    },
    {
      "cell_type": "markdown",
      "source": [
        "Answer Here."
      ],
      "metadata": {
        "id": "DVPuT8LYZNRQ"
      }
    },
    {
      "cell_type": "markdown",
      "source": [
        "##### 2. What is/are the insight(s) found from the chart?"
      ],
      "metadata": {
        "id": "YPEH6qLeZNRQ"
      }
    },
    {
      "cell_type": "markdown",
      "source": [
        "Answer Here"
      ],
      "metadata": {
        "id": "bfSqtnDqZNRR"
      }
    },
    {
      "cell_type": "markdown",
      "source": [
        "#### Chart - 15 - Pair Plot"
      ],
      "metadata": {
        "id": "q29F0dvdveiT"
      }
    },
    {
      "cell_type": "code",
      "source": [
        "# Pair Plot visualization code"
      ],
      "metadata": {
        "id": "o58-TEIhveiU"
      },
      "execution_count": null,
      "outputs": []
    },
    {
      "cell_type": "markdown",
      "source": [
        "##### 1. Why did you pick the specific chart?"
      ],
      "metadata": {
        "id": "EXh0U9oCveiU"
      }
    },
    {
      "cell_type": "markdown",
      "source": [
        "Answer Here."
      ],
      "metadata": {
        "id": "eMmPjTByveiU"
      }
    },
    {
      "cell_type": "markdown",
      "source": [
        "##### 2. What is/are the insight(s) found from the chart?"
      ],
      "metadata": {
        "id": "22aHeOlLveiV"
      }
    },
    {
      "cell_type": "markdown",
      "source": [
        "Answer Here"
      ],
      "metadata": {
        "id": "uPQ8RGwHveiV"
      }
    },
    {
      "cell_type": "markdown",
      "source": [
        "## **5. Solution to Business Objective**"
      ],
      "metadata": {
        "id": "JcMwzZxoAimU"
      }
    },
    {
      "cell_type": "markdown",
      "source": [
        "#### What do you suggest the client to achieve Business Objective ?\n",
        "Explain Briefly."
      ],
      "metadata": {
        "id": "8G2x9gOozGDZ"
      }
    },
    {
      "cell_type": "markdown",
      "source": [
        "Answer Here."
      ],
      "metadata": {
        "id": "pASKb0qOza21"
      }
    },
    {
      "cell_type": "markdown",
      "source": [
        "# **Conclusion**"
      ],
      "metadata": {
        "id": "gCX9965dhzqZ"
      }
    },
    {
      "cell_type": "markdown",
      "source": [
        "Write the conclusion here."
      ],
      "metadata": {
        "id": "Fjb1IsQkh3yE"
      }
    },
    {
      "cell_type": "markdown",
      "source": [
        "### ***Hurrah! You have successfully completed your EDA Capstone Project !!!***"
      ],
      "metadata": {
        "id": "gIfDvo9L0UH2"
      }
    }
  ]
}